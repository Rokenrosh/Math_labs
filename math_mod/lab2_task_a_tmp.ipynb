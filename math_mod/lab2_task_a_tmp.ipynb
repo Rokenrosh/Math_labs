{
 "cells": [
  {
   "cell_type": "markdown",
   "metadata": {},
   "source": [
    "### Математическое моделирование\n",
    "### Лабораторная №2\n",
    "### Генерация систем непрерывных и дискретных случайных величин"
   ]
  },
  {
   "cell_type": "markdown",
   "metadata": {},
   "source": [
    "## Задание A\n",
    "\n",
    "Написать программу реализующую метод формирования двумерной НСВ с определенным распределением (согласно варианту). Выполнить статистическое исследование (построение гистограммы составляющих вектора, вычислить точечные и интервальные оценки, коэффициент корреляции и другое). Проверить гипотезы о соответствии полученных оценок характеристик (математическое ожидание, дисперсия, корреляция) случайной величины теоретическим.\n",
    "\n",
    "$$ f(x, y) = \\frac{12}{7} (x^2 + \\frac{y}{2}) $$<br>\n",
    "\n",
    "Покомпонентные плотности распределения:\n",
    "$$ f(x)=\\frac{12}{7}(x^2 + \\frac{1}{4}) $$\n",
    "<br>\n",
    "$$ f(y)=\\frac{12}{7}(\\frac{1}{3} + \\frac{y}{2}) $$\n",
    "<br>\n",
    "\n",
    "Совместные плотности распределения:\n",
    "$$ f(x|y)=\\frac{f(x,y)}{f(y)}=\\frac{2x^2 + y}{\\frac{2}{3} + y} $$\n",
    "<br>\n",
    "$$ f(y|x)=\\frac{f(x,y)}{f(x)}=\\frac{2x^2 + y}{2x^2 + \\frac{1}{2}} $$\n",
    "\n",
    "Покомпонентные функции распределения:\n",
    "$$ F(x)=\\int_{0}^{x}\\frac{12}{7}(t^2 + \\frac{1}{4})dt=\\frac{12}{7}(\\frac{x^3}{3} + \\frac{x}{4}) $$\n",
    "<br>\n",
    "$$ F(y)=\\int_{0}^{y}\\frac{12}{7}(\\frac{1}{3} + \\frac{t}{2})dt=\\frac{12}{7}(\\frac{y}{3} + \\frac{y^2}{4}) $$\n",
    "\n",
    "\n",
    "$$ F(x|y)=\\int_{0}^{x}\\frac{2t^2 + y}{\\frac{2}{3} + y}dt=\\frac{2x^3 + 3xy}{2 + 3y} $$\n",
    "\n",
    "Разложим функцию распределения:\n",
    "$$F(x,y)=F(x|y)F(y)=\\frac{(4y + 3y^2)(2x^3 + 3xy)}{7(2 + 3y)} $$"
   ]
  },
  {
   "cell_type": "markdown",
   "metadata": {},
   "source": [
    "Промоделируем отдельно $F(y)$ и $F(x|y)$:\n",
    "  \n",
    "$$\\begin{cases}\n",
    " \\xi_1=\\frac{12}{7}(\\frac{y}{3} + \\frac{y^2}{4}) \\\\\n",
    " \\xi_2=\\frac{2x^3 + 3xy}{2 + 3y}\n",
    "\\end{cases}$$\n",
    "\n",
    "\n",
    "$$\\begin{cases}\n",
    "  y=\\frac{-2 \\pm \\sqrt{4 + 21\\xi_1}}{3} \\\\\n",
    "  x=\\frac{\\sqrt[3]{2}(\\sqrt[3]{2}y - \\sqrt[3]{a^2})}{2\\sqrt[3]{a}}\n",
    "\\end{cases}, a= -3\\xi_2y - 2\\xi_2 + \\sqrt{\\xi_2^2(3y + 2)^2 + 2y^3}$$"
   ]
  },
  {
   "cell_type": "code",
   "execution_count": 29,
   "metadata": {},
   "outputs": [],
   "source": [
    "# Imports\n",
    "from sympy import symbols, integrate\n",
    "import sympy\n",
    "import numpy as np\n",
    "import math\n",
    "import scipy.stats as sts\n",
    "import pandas as pd"
   ]
  },
  {
   "cell_type": "code",
   "execution_count": 151,
   "metadata": {},
   "outputs": [],
   "source": [
    "x, y = symbols(\"x y\")\n",
    "f_xy = 12/7 * (x**2 + y/2)\n",
    "\n",
    "def f_xy_double():\n",
    "    return integrate(f_xy, (x, 0, 1), (y, 0, 1))\n",
    " \n",
    "def f_x():\n",
    "    return integrate(f_xy, (y, 0, 1))\n",
    "\n",
    "def f_y():\n",
    "    return integrate(f_xy, (x, 0, 1))\n",
    "\n",
    "def f__x__y():\n",
    "    return f_xy / f_y()\n",
    "\n",
    "def f__y__x():\n",
    "    return f_xy / f_x()\n",
    "\n",
    "def F_x():\n",
    "    return integrate(f_x(), (x, 0, x))\n",
    "\n",
    "def F_y():\n",
    "    return integrate(f_y(), (y, 0, y))\n",
    "\n",
    "def F__x__y():\n",
    "    return integrate(f__x__y(), (x, 0, x))\n",
    "\n",
    "def F__y__x():\n",
    "    return integrate(f__y__x(), (y, 0, y))"
   ]
  },
  {
   "cell_type": "markdown",
   "metadata": {},
   "source": [
    "##### Проверим необходимое условие для f(x, y)"
   ]
  },
  {
   "cell_type": "code",
   "execution_count": 31,
   "metadata": {},
   "outputs": [],
   "source": [
    "if f_xy_double() != 1: raise(\"Необходимое условие не выполняется\")"
   ]
  },
  {
   "cell_type": "markdown",
   "metadata": {},
   "source": [
    "#### Покомпонентные плотности распределения:"
   ]
  },
  {
   "cell_type": "code",
   "execution_count": 32,
   "metadata": {},
   "outputs": [
    {
     "data": {
      "text/plain": [
       "(1.71428571428571*x**2 + 0.428571428571429,\n",
       " 0.857142857142857*y + 0.571428571428571)"
      ]
     },
     "execution_count": 32,
     "metadata": {},
     "output_type": "execute_result"
    }
   ],
   "source": [
    "f_x(), f_y()"
   ]
  },
  {
   "cell_type": "markdown",
   "metadata": {},
   "source": [
    "#### Совместные плотности распределения:"
   ]
  },
  {
   "cell_type": "code",
   "execution_count": 33,
   "metadata": {
    "scrolled": true
   },
   "outputs": [
    {
     "name": "stdout",
     "output_type": "stream",
     "text": [
      "f(x|y):\n",
      "                  2                      \n",
      "1.71428571428571⋅x  + 0.857142857142857⋅y\n",
      "─────────────────────────────────────────\n",
      " 0.857142857142857⋅y + 0.571428571428571 \n",
      "\n",
      "\n",
      "f(y|x):\n",
      "                  2                      \n",
      "1.71428571428571⋅x  + 0.857142857142857⋅y\n",
      "─────────────────────────────────────────\n",
      "                   2                     \n",
      " 1.71428571428571⋅x  + 0.428571428571429 \n"
     ]
    }
   ],
   "source": [
    "print(\"f(x|y):\")\n",
    "sympy.pprint(f__x__y())\n",
    "print(\"\\n\")\n",
    "print(\"f(y|x):\")\n",
    "sympy.pprint(f__y__x())"
   ]
  },
  {
   "cell_type": "markdown",
   "metadata": {},
   "source": [
    "#### Покомпонентные функции распределения:"
   ]
  },
  {
   "cell_type": "code",
   "execution_count": 152,
   "metadata": {},
   "outputs": [
    {
     "name": "stdout",
     "output_type": "stream",
     "text": [
      "F(x):\n",
      "                   3                      \n",
      "0.571428571428571⋅x  + 0.428571428571429⋅x\n",
      "\n",
      "\n",
      "F(y):\n",
      "                   2                      \n",
      "0.428571428571429⋅y  + 0.571428571428571⋅y\n",
      "\n",
      "\n",
      "F(x|y):\n",
      "                           3                                                  \n",
      "         1.71428571428571⋅x                      0.857142857142857⋅x⋅y        \n",
      "───────────────────────────────────── + ──────────────────────────────────────\n",
      "2.57142857142857⋅y + 1.71428571428571   0.857142857142857⋅y + 0.57142857142857\n",
      "\n",
      " \n",
      " \n",
      "─\n",
      "1\n",
      "\n",
      "\n",
      "F(y|x):\n",
      "                           2                                           2      \n",
      "         1.71428571428571⋅x ⋅y                      0.857142857142857⋅y       \n",
      "─────────────────────────────────────── + ────────────────────────────────────\n",
      "                  2                                         2                 \n",
      "1.71428571428571⋅x  + 0.428571428571429   3.42857142857143⋅x  + 0.857142857142\n",
      "\n",
      "   \n",
      "   \n",
      "───\n",
      "   \n",
      "857\n"
     ]
    }
   ],
   "source": [
    "print(\"F(x):\")\n",
    "sympy.pprint(F_x())\n",
    "print(\"\\n\")\n",
    "print(\"F(y):\")\n",
    "sympy.pprint(F_y())\n",
    "print(\"\\n\")\n",
    "print(\"F(x|y):\")\n",
    "sympy.pprint(F__x__y())\n",
    "print(\"\\n\")\n",
    "print(\"F(y|x):\")\n",
    "sympy.pprint(F__y__x())"
   ]
  },
  {
   "cell_type": "code",
   "execution_count": null,
   "metadata": {},
   "outputs": [],
   "source": [
    "from matplotlib import pyplot as plt\n",
    "from mpl_toolkits.mplot3d import Axes3D\n",
    "from matplotlib import cm\n",
    "import matplotlib as mpl\n",
    "plt.figure(figsize=(16,12));\n",
    "\n",
    "from statlib.genarator import Generator\n",
    "\n",
    "plt.style.use('seaborn')"
   ]
  },
  {
   "cell_type": "markdown",
   "metadata": {},
   "source": [
    "Найдем обратную функцию для F(y)"
   ]
  },
  {
   "cell_type": "code",
   "execution_count": 36,
   "metadata": {},
   "outputs": [
    {
     "data": {
      "text/plain": [
       "[-sqrt(21*e1 + 4)/3 - 2/3, sqrt(21*e1 + 4)/3 - 2/3]"
      ]
     },
     "execution_count": 36,
     "metadata": {},
     "output_type": "execute_result"
    }
   ],
   "source": [
    "x, y, e1, e2 = symbols(\"x y e1 e2\")\n",
    "sympy.solve(sympy.Eq(3*y**2 + 4*y - 7*e1, 0), y)"
   ]
  },
  {
   "cell_type": "markdown",
   "metadata": {},
   "source": [
    "Найдем обратную функцию для F(x|y)"
   ]
  },
  {
   "cell_type": "code",
   "execution_count": 37,
   "metadata": {},
   "outputs": [
    {
     "data": {
      "text/latex": [
       "$\\displaystyle \\frac{\\sqrt[3]{2} \\left(\\sqrt[3]{2} y - \\left(- 3 e_{2} y - 2 e_{2} + \\sqrt{e_{2}^{2} \\left(3 y + 2\\right)^{2} + 2 y^{3}}\\right)^{\\frac{2}{3}}\\right)}{2 \\sqrt[3]{- 3 e_{2} y - 2 e_{2} + \\sqrt{e_{2}^{2} \\left(3 y + 2\\right)^{2} + 2 y^{3}}}}$"
      ],
      "text/plain": [
       "2**(1/3)*(2**(1/3)*y - (-3*e2*y - 2*e2 + sqrt(e2**2*(3*y + 2)**2 + 2*y**3))**(2/3))/(2*(-3*e2*y - 2*e2 + sqrt(e2**2*(3*y + 2)**2 + 2*y**3))**(1/3))"
      ]
     },
     "execution_count": 37,
     "metadata": {},
     "output_type": "execute_result"
    }
   ],
   "source": [
    "sympy.solve(sympy.Eq(2*x**3 + 3*x*y - (3*y + 2)*e2, 0), x)[0].simplify()"
   ]
  },
  {
   "cell_type": "code",
   "execution_count": 38,
   "metadata": {},
   "outputs": [],
   "source": [
    "def generate_sample(gen: Generator, n: int):\n",
    "    return [gen.next() for _ in range(n)]\n",
    "\n",
    "def get_base_generator(gen):\n",
    "    def generator(n):\n",
    "        return generate_sample(gen, n)\n",
    "    return generator"
   ]
  },
  {
   "cell_type": "code",
   "execution_count": 39,
   "metadata": {},
   "outputs": [],
   "source": [
    "gen = Generator()\n",
    "base_genarator = get_base_generator(gen)"
   ]
  },
  {
   "cell_type": "code",
   "execution_count": 40,
   "metadata": {},
   "outputs": [],
   "source": [
    "rng = np.arange(0, 1, 0.01)\n",
    "X, Y = np.meshgrid(rng, rng)\n",
    "Z = 12/7 * (X**2 + Y/2)"
   ]
  },
  {
   "cell_type": "code",
   "execution_count": 221,
   "metadata": {},
   "outputs": [],
   "source": [
    "def generate_distribution(size, rev=False):\n",
    "    xi_1 = np.array(base_genarator(size))\n",
    "    xi_2 = np.array(base_genarator(size))\n",
    "    yy = np.sqrt(21*xi_1 + 4)/3 - 2/3\n",
    "    # yy_2 = -np.sqrt(21*xi_1[size//2:] + 4)/3 - 2/3\n",
    "    # yy = np.concatenate((yy_1, yy_2))\n",
    "    if rev:\n",
    "        yy = np.sqrt(21*xi_1 + 4)/3 - 2/3\n",
    "    a = -3*xi_2*yy - 2*xi_2 + np.sqrt(xi_2**2*(3*yy + 2)**2 + 2*yy**3)\n",
    "    xx = 2**(1/3)*(2**(1/3)*yy - a**(2/3))/(2*(a)**(1/3))\n",
    "    return xx, yy"
   ]
  },
  {
   "cell_type": "code",
   "execution_count": 222,
   "metadata": {},
   "outputs": [],
   "source": [
    "xx, yy = generate_distribution(100000)"
   ]
  },
  {
   "cell_type": "code",
   "execution_count": 223,
   "metadata": {},
   "outputs": [
    {
     "data": {
      "text/plain": [
       "((0.9999918218967055, 8.733303829333572e-06),\n",
       " (0.9999968163826602, 2.554817355076176e-05))"
      ]
     },
     "execution_count": 223,
     "metadata": {},
     "output_type": "execute_result"
    }
   ],
   "source": [
    "(max(yy), min(yy)), (max(xx), min(xx))"
   ]
  },
  {
   "cell_type": "code",
   "execution_count": 224,
   "metadata": {},
   "outputs": [
    {
     "data": {
      "image/png": "[encoded data removed]",
      "text/plain": [
       "<Figure size 576x396 with 1 Axes>"
      ]
     },
     "metadata": {},
     "output_type": "display_data"
    }
   ],
   "source": [
    "fig = plt.figure()\n",
    "ax = fig.add_subplot(111, projection='3d')\n",
    "ax.plot_surface(X, Y, Z, cmap='twilight_shifted');"
   ]
  },
  {
   "cell_type": "code",
   "execution_count": 225,
   "metadata": {},
   "outputs": [
    {
     "data": {
      "image/png": "[encoded data removed]",
      "text/plain": [
       "<Figure size 576x396 with 1 Axes>"
      ]
     },
     "metadata": {},
     "output_type": "display_data"
    }
   ],
   "source": [
    "fig = plt.figure()\n",
    "\n",
    "ax = fig.add_subplot(111, projection='3d')\n",
    "bins = 20\n",
    "hist, xedges, yedges = np.histogram2d(xx, yy, bins=bins, range=[[0, 1], [0, 1]], density=True)\n",
    "\n",
    "xpos, ypos = np.meshgrid(xedges[:-1], yedges[:-1], indexing=\"ij\")\n",
    "xpos = xpos.ravel()\n",
    "ypos = ypos.ravel()\n",
    "zpos = 0\n",
    "\n",
    "dx = dy = 1/bins * np.ones_like(zpos)\n",
    "dz = hist.ravel()\n",
    "\n",
    "ax.bar3d(xpos, ypos, zpos, dx, dy, dz, alpha=0.7)\n",
    "ax.plot_surface(X, Y, Z, cmap='twilight_shifted', alpha=0.7)\n",
    "\n",
    "plt.show()"
   ]
  },
  {
   "cell_type": "code",
   "execution_count": 179,
   "metadata": {},
   "outputs": [
    {
     "name": "stdout",
     "output_type": "stream",
     "text": [
      "Hist sum: 1.000000\n"
     ]
    }
   ],
   "source": [
    "print(\"Hist sum: %f\" % (1/bins**2 * np.sum(hist)))"
   ]
  },
  {
   "cell_type": "code",
   "execution_count": 180,
   "metadata": {},
   "outputs": [
    {
     "data": {
      "image/png": "[encoded data removed]",
      "text/plain": [
       "<Figure size 576x396 with 2 Axes>"
      ]
     },
     "metadata": {},
     "output_type": "display_data"
    }
   ],
   "source": [
    "fig, ax = plt.subplots()\n",
    "h = ax.hist2d(xx, yy, bins=(15, 15), range=[(0, 1), (0, 1)], density=True, cmap='twilight_shifted');\n",
    "plt.colorbar(h[3], ax=ax);"
   ]
  },
  {
   "cell_type": "code",
   "execution_count": 122,
   "metadata": {},
   "outputs": [
    {
     "data": {
      "image/png": "[encoded data removed]",
      "text/plain": [
       "<Figure size 576x396 with 2 Axes>"
      ]
     },
     "metadata": {},
     "output_type": "display_data"
    }
   ],
   "source": [
    "fig = plt.figure()\n",
    "ax1 = plt.contourf(X, Y, Z, cmap='twilight_shifted')\n",
    "plt.colorbar(ax1)\n",
    "plt.show()"
   ]
  },
  {
   "cell_type": "markdown",
   "metadata": {},
   "source": [
    "### Гистограммы для X"
   ]
  },
  {
   "cell_type": "code",
   "execution_count": 181,
   "metadata": {},
   "outputs": [
    {
     "data": {
      "image/png": "[encoded data removed]",
      "text/plain": [
       "<Figure size 576x396 with 1 Axes>"
      ]
     },
     "metadata": {},
     "output_type": "display_data"
    }
   ],
   "source": [
    "plt.hist(xx, bins=bins, range=(0, 1), density=True, color=\"darkgreen\", edgecolor = 'black', alpha=.7);"
   ]
  },
  {
   "cell_type": "markdown",
   "metadata": {},
   "source": [
    "### Гистограммы для Y"
   ]
  },
  {
   "cell_type": "code",
   "execution_count": 182,
   "metadata": {},
   "outputs": [
    {
     "data": {
      "image/png": "[encoded data removed]",
      "text/plain": [
       "<Figure size 576x396 with 1 Axes>"
      ]
     },
     "metadata": {},
     "output_type": "display_data"
    }
   ],
   "source": [
    "plt.hist(yy, bins=bins, range=(0, 1), density=True, color=\"darkblue\", edgecolor = 'black', alpha=.7);"
   ]
  },
  {
   "cell_type": "code",
   "execution_count": 183,
   "metadata": {},
   "outputs": [],
   "source": [
    "def get_val_counts(arr):\n",
    "    counts = {}\n",
    "    for x in arr:\n",
    "        counts[x] = counts.get(x, 0) + 1\n",
    "        \n",
    "    return counts\n",
    "\n",
    "def build_distribution_function(x_var):\n",
    "    counts = get_val_counts(x_var)\n",
    "    \n",
    "    F = [0]\n",
    "    for i in range(len(x_var) - 1):\n",
    "        F.append(F[i] + counts[x_var[i]] / n)\n",
    "        \n",
    "    return F"
   ]
  },
  {
   "cell_type": "code",
   "execution_count": 200,
   "metadata": {},
   "outputs": [
    {
     "data": {
      "image/png": "[encoded data removed]",
      "text/plain": [
       "<Figure size 576x396 with 1 Axes>"
      ]
     },
     "metadata": {},
     "output_type": "display_data"
    }
   ],
   "source": [
    "xx_sort = np.array(sorted(xx))\n",
    "F_x = build_distribution_function(xx_sort)\n",
    "yy_sort = np.array(sorted(yy))\n",
    "F_y = build_distribution_function(yy_sort)\n",
    "plt.step(xx_sort, F_x, label=\"F(x)\");\n",
    "plt.step(yy_sort, F_y, label=\"F(y)\")\n",
    "plt.legend(loc=\"best\")\n",
    "plt.title(\"Функции распределения\");"
   ]
  },
  {
   "cell_type": "markdown",
   "metadata": {},
   "source": [
    "### Вычисление теоретических оценок\n",
    "1. Матожидания\n",
    "2. Дисперсии"
   ]
  },
  {
   "cell_type": "code",
   "execution_count": 52,
   "metadata": {},
   "outputs": [],
   "source": [
    "def get_math_expect_x():\n",
    "    return integrate(x*f_xy, (y, 0, 1), (x, 0, 1))\n",
    "\n",
    "def get_math_expect_y():\n",
    "    return integrate(y*f_xy, (y, 0, 1), (x, 0, 1))\n",
    "\n",
    "def get_math_expect_x__y():\n",
    "    return integrate(x*f__x__y(), (x, 0, 1)).simplify()\n",
    "\n",
    "def get_math_expect_y__x():\n",
    "    return integrate(y*f__y__x(), (y, 0, 1)).simplify()\n",
    "\n",
    "def get_math_expect_xy():\n",
    "    return get_math_expect_x(), get_math_expect_y()\n",
    "\n",
    "def get_dispersion_x():\n",
    "    mx = get_math_expect_x()\n",
    "    return integrate((x - mx)**2*f_xy, (y, 0, 1), (x, 0, 1))\n",
    "\n",
    "def get_dispersion_y():\n",
    "    my = get_math_expect_y()\n",
    "    return integrate((y - my)**2*f_xy, (y, 0, 1), (x, 0, 1))\n",
    "\n",
    "def get_dispersion_xy():\n",
    "    return get_dispersion_x(), get_dispersion_y()\n",
    "\n",
    "def get_correlation_coeff():\n",
    "    mx, my = get_math_expect_xy()\n",
    "    dx, dy = get_dispersion_xy()\n",
    "    K_xy = integrate(x*y*f_xy, (y, 0, 1), (x, 0, 1)) - mx*my\n",
    "    r = K_xy / math.sqrt(dx * dy)\n",
    "    return r"
   ]
  },
  {
   "cell_type": "markdown",
   "metadata": {},
   "source": [
    "#### Проверка гипотезы независимости: критерий хи-квадрат"
   ]
  },
  {
   "cell_type": "code",
   "execution_count": 201,
   "metadata": {
    "slideshow": {
     "slide_type": "-"
    }
   },
   "outputs": [],
   "source": [
    "def tets_independent_chi2(table):\n",
    "    p_i = table.sum(axis=1)\n",
    "    p_j = table.sum(axis=0)\n",
    "    n = len(p_i)\n",
    "    m = len(p_j)\n",
    "    chi2 = 0\n",
    "    for i in range(n):\n",
    "        for j in range(m):\n",
    "            p_ij_t = table[i][j]\n",
    "            p_ij = p_i[i] * p_j[j]\n",
    "            # print(\"Theory: {0} Emperical: {1}\".format(p_ij_t, p_ij))\n",
    "            if p_ij != 0:\n",
    "                chi2 += (p_ij_t - p_ij)**2 / p_ij\n",
    "    return chi2*table.size, n, m\n",
    "    \n",
    "def show_pearson_criterion(n, exp_chi2, alpha):\n",
    "    table_chi2 = sts.chi2.ppf(alpha, n - 1)\n",
    "    print('Experimental chi square: {cs}, Table chi square: {tc}'.format(cs=round(exp_chi2, 5), \n",
    "                                                                         tc=round(table_chi2, 5)))\n",
    "    if exp_chi2 < table_chi2:\n",
    "        print('Criterion is accepted')\n",
    "    else:\n",
    "        print('Criterion is not accepted')"
   ]
  },
  {
   "cell_type": "code",
   "execution_count": 202,
   "metadata": {},
   "outputs": [
    {
     "name": "stdout",
     "output_type": "stream",
     "text": [
      "Experimental chi square: 63680408.11259, Table chi square: 317.02987\n",
      "Criterion is not accepted\n"
     ]
    }
   ],
   "source": [
    "exp_chi2, n, m = tets_independent_chi2(hist)\n",
    "show_pearson_criterion((n-1)*(m-1), exp_chi2, 0.05)"
   ]
  },
  {
   "cell_type": "code",
   "execution_count": 55,
   "metadata": {},
   "outputs": [
    {
     "name": "stdout",
     "output_type": "stream",
     "text": [
      "Теоретическое условное матожидание:\n",
      "\n",
      "M(x|y):\n"
     ]
    },
    {
     "data": {
      "text/latex": [
       "$\\displaystyle \\frac{1.0 \\left(2.93877551020408 y^{2} + 4.89795918367347 y + 1.95918367346939\\right)}{5.87755102040816 y^{2} + 7.83673469387755 y + 2.61224489795918}$"
      ],
      "text/plain": [
       "1.0*(2.93877551020408*y**2 + 4.89795918367347*y + 1.95918367346939)/(5.87755102040816*y**2 + 7.83673469387755*y + 2.61224489795918)"
      ]
     },
     "execution_count": 55,
     "metadata": {},
     "output_type": "execute_result"
    }
   ],
   "source": [
    "print(\"Теоретическое условное матожидание:\\n\")\n",
    "print(\"M(x|y):\")\n",
    "get_math_expect_x__y()"
   ]
  },
  {
   "cell_type": "code",
   "execution_count": 56,
   "metadata": {},
   "outputs": [
    {
     "name": "stdout",
     "output_type": "stream",
     "text": [
      "M(y|x):\n"
     ]
    },
    {
     "data": {
      "text/latex": [
       "$\\displaystyle \\frac{1.0 \\left(8.81632653061224 x^{4} + 5.14285714285714 x^{2} + 0.73469387755102\\right)}{17.6326530612245 x^{4} + 8.81632653061224 x^{2} + 1.10204081632653}$"
      ],
      "text/plain": [
       "1.0*(8.81632653061224*x**4 + 5.14285714285714*x**2 + 0.73469387755102)/(17.6326530612245*x**4 + 8.81632653061224*x**2 + 1.10204081632653)"
      ]
     },
     "execution_count": 56,
     "metadata": {},
     "output_type": "execute_result"
    }
   ],
   "source": [
    "print(\"M(y|x):\")\n",
    "get_math_expect_y__x()"
   ]
  },
  {
   "cell_type": "markdown",
   "metadata": {},
   "source": [
    "### Вычисление точечных оценок\n",
    "1. Матожидания\n",
    "2. Дисперсии"
   ]
  },
  {
   "cell_type": "code",
   "execution_count": 123,
   "metadata": {},
   "outputs": [],
   "source": [
    "xx, yy = generate_distribution(100000, True)"
   ]
  },
  {
   "cell_type": "code",
   "execution_count": 124,
   "metadata": {},
   "outputs": [],
   "source": [
    "def get_point_math_expectation(sample):\n",
    "    sample = np.array(sample)\n",
    "    mx = sum(sample)/len(sample)\n",
    "    return mx\n",
    "\n",
    "def get_point_dispersion(sample):\n",
    "    sample = np.array(sample)\n",
    "    n = len(sample)\n",
    "    mx =  get_point_math_expectation(sample)\n",
    "    dx = sum((sample - mx)**2)/(n - 1)\n",
    "    return dx\n",
    "\n",
    "def get_point_correlation(x, y):\n",
    "    mx, dx = get_point_math_expectation(x), get_point_dispersion(x)\n",
    "    my, dy = get_point_math_expectation(y), get_point_dispersion(y)\n",
    "    mxy = np.average(x*y)\n",
    "    r = (mxy - mx * my) / math.sqrt(dx*dy)\n",
    "    return r"
   ]
  },
  {
   "cell_type": "code",
   "execution_count": 125,
   "metadata": {},
   "outputs": [],
   "source": [
    "def show_theor_emp_math_expectation():\n",
    "    Mt_X, Mt_Y = get_math_expect_xy()\n",
    "    M_X, M_Y = get_point_math_expectation(xx), get_point_math_expectation(yy)\n",
    "    print('Theoretical M(X): {0}\\nEmpirical M(X): {1}\\n'.format(round(Mt_X, 5), round(M_X, 5)))\n",
    "    print('Theoretical M(Y): {0}\\nEmpirical M(Y): {1}\\n'.format(round(Mt_Y, 5), round(M_Y, 5)))\n",
    "    \n",
    "def show_theor_emp_dispersion():\n",
    "    D_X, D_Y = get_dispersion_xy()\n",
    "    Dt_X, Dt_Y = get_point_dispersion(xx), get_point_dispersion(yy)\n",
    "    print('Theoretical D(X): {0}\\nEmpirical D(X): {1}\\n'.format(round(Dt_X, 5), round(D_X, 5)))\n",
    "    print('Theoretical D(Y): {0}\\nEmpirical D(Y): {1}\\n'.format(round(Dt_Y, 5), round(D_Y, 5))) "
   ]
  },
  {
   "cell_type": "code",
   "execution_count": 126,
   "metadata": {},
   "outputs": [
    {
     "name": "stdout",
     "output_type": "stream",
     "text": [
      "Theoretical M(X): 0.64286\n",
      "Empirical M(X): 0.64273\n",
      "\n",
      "Theoretical M(Y): 0.57143\n",
      "Empirical M(Y): 0.57107\n",
      "\n",
      "------------------------------\n",
      "\n",
      "Theoretical D(X): 0.07262\n",
      "Empirical D(X): 0.07245\n",
      "\n",
      "Theoretical D(Y): 0.07837\n",
      "Empirical D(Y): 0.07823\n",
      "\n"
     ]
    }
   ],
   "source": [
    "show_theor_emp_math_expectation()\n",
    "print('-'*30 + '\\n')\n",
    "show_theor_emp_dispersion()"
   ]
  },
  {
   "cell_type": "code",
   "execution_count": 127,
   "metadata": {},
   "outputs": [
    {
     "name": "stdout",
     "output_type": "stream",
     "text": [
      "Теоретический коэффициент корреляции: -0.13554\n",
      "\n",
      "Эмперический коэффициент корреляции: -0.13639\n"
     ]
    }
   ],
   "source": [
    "print(\"Теоретический коэффициент корреляции: {0}\".format(round(get_correlation_coeff(), 5)))\n",
    "print()\n",
    "print(\"Эмперический коэффициент корреляции: {0}\".format(round(get_point_correlation(xx, yy), 5)))"
   ]
  },
  {
   "cell_type": "markdown",
   "metadata": {},
   "source": [
    "#### Проверим гипотезы о соответствии полученных оценок характеристик\n",
    "##### 1. t-тест & z-test\n",
    "https://ru.wikipedia.org/wiki/T-%D0%9A%D1%80%D0%B8%D1%82%D0%B5%D1%80%D0%B8%D0%B9_%D0%A1%D1%82%D1%8C%D1%8E%D0%B4%D0%B5%D0%BD%D1%82%D0%B0\n",
    "https://towardsdatascience.com/inferential-statistics-series-t-test-using-numpy-2718f8f9bf2f"
   ]
  },
  {
   "cell_type": "code",
   "execution_count": 211,
   "metadata": {},
   "outputs": [],
   "source": [
    "def get_t_test_value(sample, is_x=True):\n",
    "    M = get_point_math_expectation(sample)\n",
    "    D = get_point_dispersion(sample)\n",
    "    n = len(sample)\n",
    "    if is_x:\n",
    "        m = float(get_math_expect_x())\n",
    "    else:\n",
    "        m = float(get_math_expect_y())\n",
    "    t_test = abs(M - m) / math.sqrt(D/n)\n",
    "    return t_test\n",
    "\n",
    "def show_t_test_value(t_test, df):\n",
    "    p = 1 - sts.t.cdf(t_test, df=df)\n",
    "    print(\"Т-статистика = {}\".format(t_test))\n",
    "    print(\"Вероятность принятия гипотезы = {}\".format(2*p))"
   ]
  },
  {
   "cell_type": "code",
   "execution_count": 216,
   "metadata": {},
   "outputs": [
    {
     "name": "stdout",
     "output_type": "stream",
     "text": [
      "Т-статистика = 0.018554823595630123\n",
      "Вероятность принятия гипотезы = 0.9851962791909838\n"
     ]
    }
   ],
   "source": [
    "df = len(yy) - 1\n",
    "t_test_y = get_t_test_value(yy, is_x=False)\n",
    "show_t_test_value(t_test_y, df)"
   ]
  },
  {
   "cell_type": "markdown",
   "metadata": {},
   "source": [
    "#### 2. Критерий Фишера (F-test)\n",
    "https://ru.wikipedia.org/wiki/F-%D1%82%D0%B5%D1%81%D1%82"
   ]
  },
  {
   "cell_type": "code",
   "execution_count": 131,
   "metadata": {},
   "outputs": [],
   "source": [
    "def get_fisher(sample):\n",
    "    disp_1 = get_point_dispersion(sample)\n",
    "    disp_2 = float(get_dispersion_x())\n",
    "    return min(disp_1, disp_2) / max(disp_1, disp_2)"
   ]
  },
  {
   "cell_type": "code",
   "execution_count": 132,
   "metadata": {},
   "outputs": [
    {
     "data": {
      "text/plain": [
       "0.9976380588884244"
      ]
     },
     "execution_count": 132,
     "metadata": {},
     "output_type": "execute_result"
    }
   ],
   "source": [
    "fisher_x = get_fisher(xx)\n",
    "fisher_x"
   ]
  },
  {
   "cell_type": "code",
   "execution_count": 133,
   "metadata": {},
   "outputs": [
    {
     "name": "stdout",
     "output_type": "stream",
     "text": [
      "0.354242065734571\n",
      "Нулевая гипотеза принята\n"
     ]
    }
   ],
   "source": [
    "alpha = 0.05\n",
    "n = len(xx) - 1\n",
    "p_value = sts.f.cdf(fisher_x, n, n-2)\n",
    "print(p_value)\n",
    "if p_value > alpha:\n",
    "    print(\"Нулевая гипотеза принята\")"
   ]
  },
  {
   "cell_type": "markdown",
   "metadata": {},
   "source": [
    "### Вычисление интервальных оценок\n",
    "1. Матожидания\n",
    "2. Дисперсии\n",
    "3. Дисперсии (Bootstrap)"
   ]
  },
  {
   "cell_type": "markdown",
   "metadata": {},
   "source": [
    "### 1. Доверительный интервал для матожидания"
   ]
  },
  {
   "cell_type": "code",
   "execution_count": 134,
   "metadata": {},
   "outputs": [],
   "source": [
    "def get_math_interval(M, D, n, a):\n",
    "    #Квантиль нормального распределение уровня (1 - a/2)\n",
    "    stat = sts.norm.ppf(1 - a/2)\n",
    "    l, r = round(M - math.sqrt(D/(n-1))*stat, 5), round(M + math.sqrt(D/(n-1))*stat, 5)\n",
    "    return l, r\n",
    "\n",
    "def math_expectation_interval(x, y, a):\n",
    "    M_X, M_Y = get_point_math_expectation(x), get_point_math_expectation(y)\n",
    "    D_X, D_Y = get_point_dispersion(x), get_point_dispersion(y)\n",
    "    size = len(x)\n",
    "    l_x, r_x = get_math_interval(M_X, D_X, size, a)\n",
    "    l_y, r_y = get_math_interval(M_Y, D_Y, size, a)\n",
    "    return ([l_x, r_x], [l_y, r_y])\n",
    "\n",
    "def show_math_expectation_interval(sizes, alphas):\n",
    "    coeff = []\n",
    "    for n in sizes:\n",
    "        x, y = generate_distribution(size=n)\n",
    "        for a in alphas:\n",
    "            mei_X, mei_Y = math_expectation_interval(x, y, a)\n",
    "            coeff.append([n, a, str(mei_X), abs(mei_X[0] - mei_X[1]), str(mei_Y), abs(mei_Y[0] - mei_Y[1])])\n",
    "    return pd.DataFrame(data={\n",
    "            'size': [x[0] for x in coeff],\n",
    "            'alpha': [x[1] for x in coeff],\n",
    "            'M(X)': [x[2] for x in coeff],\n",
    "            '| M1(X) - M2(X) |': [round(x[3],4) for x in coeff],\n",
    "            'M(Y)': [x[4] for x in coeff],\n",
    "            '| M1(Y) - M2(Y) |': [round(x[5],4) for x in coeff]})"
   ]
  },
  {
   "cell_type": "markdown",
   "metadata": {},
   "source": [
    "Постороим интервальные оценки матожидания для разных уровней доверия"
   ]
  },
  {
   "cell_type": "code",
   "execution_count": 136,
   "metadata": {},
   "outputs": [
    {
     "name": "stdout",
     "output_type": "stream",
     "text": [
      "Theoretical M(X): 0.64286\n",
      "Empirical M(X): 0.64273\n",
      "\n",
      "Theoretical M(Y): 0.57143\n",
      "Empirical M(Y): 0.57107\n",
      "\n"
     ]
    },
    {
     "data": {
      "text/html": [
       "<div>\n",
       "<style scoped>\n",
       "    .dataframe tbody tr th:only-of-type {\n",
       "        vertical-align: middle;\n",
       "    }\n",
       "\n",
       "    .dataframe tbody tr th {\n",
       "        vertical-align: top;\n",
       "    }\n",
       "\n",
       "    .dataframe thead th {\n",
       "        text-align: right;\n",
       "    }\n",
       "</style>\n",
       "<table border=\"1\" class=\"dataframe\">\n",
       "  <thead>\n",
       "    <tr style=\"text-align: right;\">\n",
       "      <th></th>\n",
       "      <th>size</th>\n",
       "      <th>alpha</th>\n",
       "      <th>M(X)</th>\n",
       "      <th>| M1(X) - M2(X) |</th>\n",
       "      <th>M(Y)</th>\n",
       "      <th>| M1(Y) - M2(Y) |</th>\n",
       "    </tr>\n",
       "  </thead>\n",
       "  <tbody>\n",
       "    <tr>\n",
       "      <td>0</td>\n",
       "      <td>100</td>\n",
       "      <td>0.500</td>\n",
       "      <td>[0.6034, 0.64154]</td>\n",
       "      <td>0.0381</td>\n",
       "      <td>[0.55153, 0.589]</td>\n",
       "      <td>0.0375</td>\n",
       "    </tr>\n",
       "    <tr>\n",
       "      <td>1</td>\n",
       "      <td>100</td>\n",
       "      <td>0.100</td>\n",
       "      <td>[0.57597, 0.66897]</td>\n",
       "      <td>0.0930</td>\n",
       "      <td>[0.52457, 0.61596]</td>\n",
       "      <td>0.0914</td>\n",
       "    </tr>\n",
       "    <tr>\n",
       "      <td>2</td>\n",
       "      <td>100</td>\n",
       "      <td>0.010</td>\n",
       "      <td>[0.54965, 0.69529]</td>\n",
       "      <td>0.1456</td>\n",
       "      <td>[0.49871, 0.64182]</td>\n",
       "      <td>0.1431</td>\n",
       "    </tr>\n",
       "    <tr>\n",
       "      <td>3</td>\n",
       "      <td>100</td>\n",
       "      <td>0.001</td>\n",
       "      <td>[0.52944, 0.7155]</td>\n",
       "      <td>0.1861</td>\n",
       "      <td>[0.47885, 0.66167]</td>\n",
       "      <td>0.1828</td>\n",
       "    </tr>\n",
       "    <tr>\n",
       "      <td>4</td>\n",
       "      <td>100000</td>\n",
       "      <td>0.500</td>\n",
       "      <td>[0.64239, 0.64354]</td>\n",
       "      <td>0.0011</td>\n",
       "      <td>[0.56989, 0.57108]</td>\n",
       "      <td>0.0012</td>\n",
       "    </tr>\n",
       "    <tr>\n",
       "      <td>5</td>\n",
       "      <td>100000</td>\n",
       "      <td>0.100</td>\n",
       "      <td>[0.64156, 0.64437]</td>\n",
       "      <td>0.0028</td>\n",
       "      <td>[0.56903, 0.57194]</td>\n",
       "      <td>0.0029</td>\n",
       "    </tr>\n",
       "    <tr>\n",
       "      <td>6</td>\n",
       "      <td>100000</td>\n",
       "      <td>0.010</td>\n",
       "      <td>[0.64077, 0.64516]</td>\n",
       "      <td>0.0044</td>\n",
       "      <td>[0.5682, 0.57277]</td>\n",
       "      <td>0.0046</td>\n",
       "    </tr>\n",
       "    <tr>\n",
       "      <td>7</td>\n",
       "      <td>100000</td>\n",
       "      <td>0.001</td>\n",
       "      <td>[0.64016, 0.64577]</td>\n",
       "      <td>0.0056</td>\n",
       "      <td>[0.56757, 0.5734]</td>\n",
       "      <td>0.0058</td>\n",
       "    </tr>\n",
       "  </tbody>\n",
       "</table>\n",
       "</div>"
      ],
      "text/plain": [
       "     size  alpha                M(X)  | M1(X) - M2(X) |                M(Y)  \\\n",
       "0     100  0.500   [0.6034, 0.64154]             0.0381    [0.55153, 0.589]   \n",
       "1     100  0.100  [0.57597, 0.66897]             0.0930  [0.52457, 0.61596]   \n",
       "2     100  0.010  [0.54965, 0.69529]             0.1456  [0.49871, 0.64182]   \n",
       "3     100  0.001   [0.52944, 0.7155]             0.1861  [0.47885, 0.66167]   \n",
       "4  100000  0.500  [0.64239, 0.64354]             0.0011  [0.56989, 0.57108]   \n",
       "5  100000  0.100  [0.64156, 0.64437]             0.0028  [0.56903, 0.57194]   \n",
       "6  100000  0.010  [0.64077, 0.64516]             0.0044   [0.5682, 0.57277]   \n",
       "7  100000  0.001  [0.64016, 0.64577]             0.0056   [0.56757, 0.5734]   \n",
       "\n",
       "   | M1(Y) - M2(Y) |  \n",
       "0             0.0375  \n",
       "1             0.0914  \n",
       "2             0.1431  \n",
       "3             0.1828  \n",
       "4             0.0012  \n",
       "5             0.0029  \n",
       "6             0.0046  \n",
       "7             0.0058  "
      ]
     },
     "execution_count": 136,
     "metadata": {},
     "output_type": "execute_result"
    }
   ],
   "source": [
    "alphas = [0.5, 0.1, 0.01, 0.001]\n",
    "sizes = [100, 100000]\n",
    "show_theor_emp_math_expectation()\n",
    "show_math_expectation_interval(sizes, alphas)"
   ]
  },
  {
   "cell_type": "markdown",
   "metadata": {},
   "source": [
    "### 2. Доверительный интервал для дисперсии"
   ]
  },
  {
   "cell_type": "code",
   "execution_count": 137,
   "metadata": {},
   "outputs": [],
   "source": [
    "def get_dispersion_interval(D, n, a):\n",
    "    stat = sts.norm.ppf(1-a/2)\n",
    "    l, r = round(D - math.sqrt(D/(n-1))*stat, 5), round(D + math.sqrt(D/(n-1))*stat, 5)\n",
    "    return l, r\n",
    "\n",
    "def dispersion_interval(x, y, a):\n",
    "    D_X, D_Y = get_point_dispersion(x), get_point_dispersion(y)\n",
    "    size = len(x)\n",
    "    l_x, r_x = get_dispersion_interval(D_X, size, a)\n",
    "    l_y, r_y = get_dispersion_interval(D_Y, size, a)\n",
    "    return ([l_x, r_x], [l_y, r_y])\n",
    "\n",
    "def show_dispersion_interval(sizes, alphas, stat_func, **kwargs):\n",
    "    coeff = []\n",
    "    for n in sizes:\n",
    "        x, y = generate_distribution(size=n)\n",
    "        for a in alphas:\n",
    "            di_X, di_Y = stat_func(x, y, a, **kwargs)\n",
    "            coeff.append([n, a, str(di_X), abs(di_X[0] - di_X[1]), str(di_Y), abs(di_Y[0] - di_Y[1])])\n",
    "    return pd.DataFrame(data={\n",
    "            'size': [x[0] for x in coeff],\n",
    "            'alpha': [x[1] for x in coeff],\n",
    "            'D(X)': [x[2] for x in coeff],\n",
    "            '| D1(X) - D2(X) |': [round(x[3],4) for x in coeff], \n",
    "            'D(Y)': [x[4] for x in coeff],\n",
    "            '| D1(Y) - D2(Y) |': [round(x[5],4) for x in coeff]})"
   ]
  },
  {
   "cell_type": "code",
   "execution_count": 142,
   "metadata": {},
   "outputs": [
    {
     "name": "stdout",
     "output_type": "stream",
     "text": [
      "Theoretical D(X): 0.07262\n",
      "Empirical D(X): 0.07245\n",
      "\n",
      "Theoretical D(Y): 0.07837\n",
      "Empirical D(Y): 0.07823\n",
      "\n"
     ]
    },
    {
     "data": {
      "text/html": [
       "<div>\n",
       "<style scoped>\n",
       "    .dataframe tbody tr th:only-of-type {\n",
       "        vertical-align: middle;\n",
       "    }\n",
       "\n",
       "    .dataframe tbody tr th {\n",
       "        vertical-align: top;\n",
       "    }\n",
       "\n",
       "    .dataframe thead th {\n",
       "        text-align: right;\n",
       "    }\n",
       "</style>\n",
       "<table border=\"1\" class=\"dataframe\">\n",
       "  <thead>\n",
       "    <tr style=\"text-align: right;\">\n",
       "      <th></th>\n",
       "      <th>size</th>\n",
       "      <th>alpha</th>\n",
       "      <th>D(X)</th>\n",
       "      <th>| D1(X) - D2(X) |</th>\n",
       "      <th>D(Y)</th>\n",
       "      <th>| D1(Y) - D2(Y) |</th>\n",
       "    </tr>\n",
       "  </thead>\n",
       "  <tbody>\n",
       "    <tr>\n",
       "      <td>0</td>\n",
       "      <td>100</td>\n",
       "      <td>0.500</td>\n",
       "      <td>[0.05949, 0.09748]</td>\n",
       "      <td>0.0380</td>\n",
       "      <td>[0.06903, 0.10954]</td>\n",
       "      <td>0.0405</td>\n",
       "    </tr>\n",
       "    <tr>\n",
       "      <td>1</td>\n",
       "      <td>100</td>\n",
       "      <td>0.100</td>\n",
       "      <td>[0.03217, 0.1248]</td>\n",
       "      <td>0.0926</td>\n",
       "      <td>[0.03989, 0.13868]</td>\n",
       "      <td>0.0988</td>\n",
       "    </tr>\n",
       "    <tr>\n",
       "      <td>2</td>\n",
       "      <td>100</td>\n",
       "      <td>0.010</td>\n",
       "      <td>[0.00596, 0.15101]</td>\n",
       "      <td>0.1451</td>\n",
       "      <td>[0.01193, 0.16664]</td>\n",
       "      <td>0.1547</td>\n",
       "    </tr>\n",
       "    <tr>\n",
       "      <td>3</td>\n",
       "      <td>100</td>\n",
       "      <td>0.001</td>\n",
       "      <td>[-0.01416, 0.17113]</td>\n",
       "      <td>0.1853</td>\n",
       "      <td>[-0.00953, 0.18811]</td>\n",
       "      <td>0.1976</td>\n",
       "    </tr>\n",
       "    <tr>\n",
       "      <td>4</td>\n",
       "      <td>100000</td>\n",
       "      <td>0.500</td>\n",
       "      <td>[0.07161, 0.07276]</td>\n",
       "      <td>0.0012</td>\n",
       "      <td>[0.07808, 0.07927]</td>\n",
       "      <td>0.0012</td>\n",
       "    </tr>\n",
       "    <tr>\n",
       "      <td>5</td>\n",
       "      <td>100000</td>\n",
       "      <td>0.100</td>\n",
       "      <td>[0.07079, 0.07358]</td>\n",
       "      <td>0.0028</td>\n",
       "      <td>[0.07722, 0.08013]</td>\n",
       "      <td>0.0029</td>\n",
       "    </tr>\n",
       "    <tr>\n",
       "      <td>6</td>\n",
       "      <td>100000</td>\n",
       "      <td>0.010</td>\n",
       "      <td>[0.07, 0.07438]</td>\n",
       "      <td>0.0044</td>\n",
       "      <td>[0.07639, 0.08096]</td>\n",
       "      <td>0.0046</td>\n",
       "    </tr>\n",
       "    <tr>\n",
       "      <td>7</td>\n",
       "      <td>100000</td>\n",
       "      <td>0.001</td>\n",
       "      <td>[0.06939, 0.07498]</td>\n",
       "      <td>0.0056</td>\n",
       "      <td>[0.07576, 0.08159]</td>\n",
       "      <td>0.0058</td>\n",
       "    </tr>\n",
       "  </tbody>\n",
       "</table>\n",
       "</div>"
      ],
      "text/plain": [
       "     size  alpha                 D(X)  | D1(X) - D2(X) |                 D(Y)  \\\n",
       "0     100  0.500   [0.05949, 0.09748]             0.0380   [0.06903, 0.10954]   \n",
       "1     100  0.100    [0.03217, 0.1248]             0.0926   [0.03989, 0.13868]   \n",
       "2     100  0.010   [0.00596, 0.15101]             0.1451   [0.01193, 0.16664]   \n",
       "3     100  0.001  [-0.01416, 0.17113]             0.1853  [-0.00953, 0.18811]   \n",
       "4  100000  0.500   [0.07161, 0.07276]             0.0012   [0.07808, 0.07927]   \n",
       "5  100000  0.100   [0.07079, 0.07358]             0.0028   [0.07722, 0.08013]   \n",
       "6  100000  0.010      [0.07, 0.07438]             0.0044   [0.07639, 0.08096]   \n",
       "7  100000  0.001   [0.06939, 0.07498]             0.0056   [0.07576, 0.08159]   \n",
       "\n",
       "   | D1(Y) - D2(Y) |  \n",
       "0             0.0405  \n",
       "1             0.0988  \n",
       "2             0.1547  \n",
       "3             0.1976  \n",
       "4             0.0012  \n",
       "5             0.0029  \n",
       "6             0.0046  \n",
       "7             0.0058  "
      ]
     },
     "execution_count": 142,
     "metadata": {},
     "output_type": "execute_result"
    }
   ],
   "source": [
    "alphas = [0.5, 0.1, 0.01, 0.001]\n",
    "sizes = [100, 100000]\n",
    "show_theor_emp_dispersion()\n",
    "df_disp_int = show_dispersion_interval(sizes, alphas, dispersion_interval)\n",
    "df_disp_int"
   ]
  },
  {
   "cell_type": "markdown",
   "metadata": {},
   "source": [
    "### 3. Простроим доверительный интервал для дисперсии на основе bootstrap"
   ]
  },
  {
   "cell_type": "code",
   "execution_count": 139,
   "metadata": {},
   "outputs": [],
   "source": [
    "def get_bootstrap_samples(data, sample_count, sample_size_percent):\n",
    "    indices = np.random.randint(0, len(data), (sample_count, int(len(data)*sample_size_percent/100)))\n",
    "    samples = np.array(data)[indices]\n",
    "    return samples\n",
    "\n",
    "def get_stat_intervals(stat, alpha):\n",
    "    bound = np.percentile(stat, [100*alpha/ 2, 100*(1-alpha/2)])\n",
    "    return round(bound[0], 5), round(bound[1], 5)\n",
    "\n",
    "def apply_dispersion_bootstrap(sample, sample_count, sample_size_percent):\n",
    "    if sample_size_percent is None:\n",
    "        sample_size_percent = 100\n",
    "    if 0 > sample_size_percent > 100:\n",
    "        raise ValueError(\"sample_size_percent should be on interval [0, 1]\")\n",
    "    return list(map(get_point_dispersion, get_bootstrap_samples(sample, sample_count, sample_size_percent)))\n",
    "\n",
    "def stat_intervals(x, y, alpha, sample_count=100, sample_size_percent=None):\n",
    "    ilec_x = apply_dispersion_bootstrap(x, sample_count=sample_count, sample_size_percent=sample_size_percent)\n",
    "    ilec_y = apply_dispersion_bootstrap(y, sample_count=sample_count, sample_size_percent=sample_size_percent)\n",
    "    return get_stat_intervals(ilec_x, alpha), get_stat_intervals(ilec_x, alpha)"
   ]
  },
  {
   "cell_type": "code",
   "execution_count": 143,
   "metadata": {},
   "outputs": [
    {
     "name": "stdout",
     "output_type": "stream",
     "text": [
      "Theoretical D(X): 0.07262\n",
      "Empirical D(X): 0.07245\n",
      "\n",
      "Theoretical D(Y): 0.07837\n",
      "Empirical D(Y): 0.07823\n",
      "\n"
     ]
    },
    {
     "data": {
      "text/html": [
       "<div>\n",
       "<style scoped>\n",
       "    .dataframe tbody tr th:only-of-type {\n",
       "        vertical-align: middle;\n",
       "    }\n",
       "\n",
       "    .dataframe tbody tr th {\n",
       "        vertical-align: top;\n",
       "    }\n",
       "\n",
       "    .dataframe thead th {\n",
       "        text-align: right;\n",
       "    }\n",
       "</style>\n",
       "<table border=\"1\" class=\"dataframe\">\n",
       "  <thead>\n",
       "    <tr style=\"text-align: right;\">\n",
       "      <th></th>\n",
       "      <th>size</th>\n",
       "      <th>alpha</th>\n",
       "      <th>D(X)</th>\n",
       "      <th>| D1(X) - D2(X) |</th>\n",
       "      <th>D(Y)</th>\n",
       "      <th>| D1(Y) - D2(Y) |</th>\n",
       "    </tr>\n",
       "  </thead>\n",
       "  <tbody>\n",
       "    <tr>\n",
       "      <td>0</td>\n",
       "      <td>100</td>\n",
       "      <td>0.500</td>\n",
       "      <td>(0.06617, 0.08771)</td>\n",
       "      <td>0.0215</td>\n",
       "      <td>(0.06617, 0.08771)</td>\n",
       "      <td>0.0215</td>\n",
       "    </tr>\n",
       "    <tr>\n",
       "      <td>1</td>\n",
       "      <td>100</td>\n",
       "      <td>0.100</td>\n",
       "      <td>(0.05331, 0.09489)</td>\n",
       "      <td>0.0416</td>\n",
       "      <td>(0.05331, 0.09489)</td>\n",
       "      <td>0.0416</td>\n",
       "    </tr>\n",
       "    <tr>\n",
       "      <td>2</td>\n",
       "      <td>100</td>\n",
       "      <td>0.010</td>\n",
       "      <td>(0.05058, 0.10713)</td>\n",
       "      <td>0.0566</td>\n",
       "      <td>(0.05058, 0.10713)</td>\n",
       "      <td>0.0566</td>\n",
       "    </tr>\n",
       "    <tr>\n",
       "      <td>3</td>\n",
       "      <td>100</td>\n",
       "      <td>0.001</td>\n",
       "      <td>(0.03927, 0.11625)</td>\n",
       "      <td>0.0770</td>\n",
       "      <td>(0.03927, 0.11625)</td>\n",
       "      <td>0.0770</td>\n",
       "    </tr>\n",
       "    <tr>\n",
       "      <td>4</td>\n",
       "      <td>100000</td>\n",
       "      <td>0.500</td>\n",
       "      <td>(0.07221, 0.07274)</td>\n",
       "      <td>0.0005</td>\n",
       "      <td>(0.07221, 0.07274)</td>\n",
       "      <td>0.0005</td>\n",
       "    </tr>\n",
       "    <tr>\n",
       "      <td>5</td>\n",
       "      <td>100000</td>\n",
       "      <td>0.100</td>\n",
       "      <td>(0.07197, 0.07299)</td>\n",
       "      <td>0.0010</td>\n",
       "      <td>(0.07197, 0.07299)</td>\n",
       "      <td>0.0010</td>\n",
       "    </tr>\n",
       "    <tr>\n",
       "      <td>6</td>\n",
       "      <td>100000</td>\n",
       "      <td>0.010</td>\n",
       "      <td>(0.07127, 0.07334)</td>\n",
       "      <td>0.0021</td>\n",
       "      <td>(0.07127, 0.07334)</td>\n",
       "      <td>0.0021</td>\n",
       "    </tr>\n",
       "    <tr>\n",
       "      <td>7</td>\n",
       "      <td>100000</td>\n",
       "      <td>0.001</td>\n",
       "      <td>(0.07164, 0.07348)</td>\n",
       "      <td>0.0018</td>\n",
       "      <td>(0.07164, 0.07348)</td>\n",
       "      <td>0.0018</td>\n",
       "    </tr>\n",
       "  </tbody>\n",
       "</table>\n",
       "</div>"
      ],
      "text/plain": [
       "     size  alpha                D(X)  | D1(X) - D2(X) |                D(Y)  \\\n",
       "0     100  0.500  (0.06617, 0.08771)             0.0215  (0.06617, 0.08771)   \n",
       "1     100  0.100  (0.05331, 0.09489)             0.0416  (0.05331, 0.09489)   \n",
       "2     100  0.010  (0.05058, 0.10713)             0.0566  (0.05058, 0.10713)   \n",
       "3     100  0.001  (0.03927, 0.11625)             0.0770  (0.03927, 0.11625)   \n",
       "4  100000  0.500  (0.07221, 0.07274)             0.0005  (0.07221, 0.07274)   \n",
       "5  100000  0.100  (0.07197, 0.07299)             0.0010  (0.07197, 0.07299)   \n",
       "6  100000  0.010  (0.07127, 0.07334)             0.0021  (0.07127, 0.07334)   \n",
       "7  100000  0.001  (0.07164, 0.07348)             0.0018  (0.07164, 0.07348)   \n",
       "\n",
       "   | D1(Y) - D2(Y) |  \n",
       "0             0.0215  \n",
       "1             0.0416  \n",
       "2             0.0566  \n",
       "3             0.0770  \n",
       "4             0.0005  \n",
       "5             0.0010  \n",
       "6             0.0021  \n",
       "7             0.0018  "
      ]
     },
     "execution_count": 143,
     "metadata": {},
     "output_type": "execute_result"
    }
   ],
   "source": [
    "alphas = [0.5, 0.1, 0.01, 0.001]\n",
    "show_theor_emp_dispersion()\n",
    "df_disp_boot = show_dispersion_interval(sizes, alphas, stat_intervals, sample_count=100, sample_size_percent=50)\n",
    "df_disp_boot"
   ]
  },
  {
   "cell_type": "code",
   "execution_count": 148,
   "metadata": {},
   "outputs": [
    {
     "data": {
      "text/html": [
       "<div>\n",
       "<style scoped>\n",
       "    .dataframe tbody tr th:only-of-type {\n",
       "        vertical-align: middle;\n",
       "    }\n",
       "\n",
       "    .dataframe tbody tr th {\n",
       "        vertical-align: top;\n",
       "    }\n",
       "\n",
       "    .dataframe thead th {\n",
       "        text-align: right;\n",
       "    }\n",
       "</style>\n",
       "<table border=\"1\" class=\"dataframe\">\n",
       "  <thead>\n",
       "    <tr style=\"text-align: right;\">\n",
       "      <th></th>\n",
       "      <th>size</th>\n",
       "      <th>alpha</th>\n",
       "      <th>D(X)</th>\n",
       "      <th>| D1(X) - D2(X) |</th>\n",
       "      <th>D(Y)</th>\n",
       "      <th>| D1(Y) - D2(Y) |</th>\n",
       "    </tr>\n",
       "  </thead>\n",
       "  <tbody>\n",
       "    <tr>\n",
       "      <td>0</td>\n",
       "      <td>100</td>\n",
       "      <td>0.500</td>\n",
       "      <td>[0.05949, 0.09748]</td>\n",
       "      <td>0.0380</td>\n",
       "      <td>[0.06903, 0.10954]</td>\n",
       "      <td>0.0405</td>\n",
       "    </tr>\n",
       "    <tr>\n",
       "      <td>1</td>\n",
       "      <td>100</td>\n",
       "      <td>0.100</td>\n",
       "      <td>[0.03217, 0.1248]</td>\n",
       "      <td>0.0926</td>\n",
       "      <td>[0.03989, 0.13868]</td>\n",
       "      <td>0.0988</td>\n",
       "    </tr>\n",
       "    <tr>\n",
       "      <td>2</td>\n",
       "      <td>100</td>\n",
       "      <td>0.010</td>\n",
       "      <td>[0.00596, 0.15101]</td>\n",
       "      <td>0.1451</td>\n",
       "      <td>[0.01193, 0.16664]</td>\n",
       "      <td>0.1547</td>\n",
       "    </tr>\n",
       "    <tr>\n",
       "      <td>3</td>\n",
       "      <td>100</td>\n",
       "      <td>0.001</td>\n",
       "      <td>[-0.01416, 0.17113]</td>\n",
       "      <td>0.1853</td>\n",
       "      <td>[-0.00953, 0.18811]</td>\n",
       "      <td>0.1976</td>\n",
       "    </tr>\n",
       "    <tr>\n",
       "      <td>4</td>\n",
       "      <td>100000</td>\n",
       "      <td>0.500</td>\n",
       "      <td>[0.07161, 0.07276]</td>\n",
       "      <td>0.0012</td>\n",
       "      <td>[0.07808, 0.07927]</td>\n",
       "      <td>0.0012</td>\n",
       "    </tr>\n",
       "    <tr>\n",
       "      <td>5</td>\n",
       "      <td>100000</td>\n",
       "      <td>0.100</td>\n",
       "      <td>[0.07079, 0.07358]</td>\n",
       "      <td>0.0028</td>\n",
       "      <td>[0.07722, 0.08013]</td>\n",
       "      <td>0.0029</td>\n",
       "    </tr>\n",
       "    <tr>\n",
       "      <td>6</td>\n",
       "      <td>100000</td>\n",
       "      <td>0.010</td>\n",
       "      <td>[0.07, 0.07438]</td>\n",
       "      <td>0.0044</td>\n",
       "      <td>[0.07639, 0.08096]</td>\n",
       "      <td>0.0046</td>\n",
       "    </tr>\n",
       "    <tr>\n",
       "      <td>7</td>\n",
       "      <td>100000</td>\n",
       "      <td>0.001</td>\n",
       "      <td>[0.06939, 0.07498]</td>\n",
       "      <td>0.0056</td>\n",
       "      <td>[0.07576, 0.08159]</td>\n",
       "      <td>0.0058</td>\n",
       "    </tr>\n",
       "    <tr>\n",
       "      <td>0</td>\n",
       "      <td>100</td>\n",
       "      <td>0.500</td>\n",
       "      <td>(0.06617, 0.08771)</td>\n",
       "      <td>0.0215</td>\n",
       "      <td>(0.06617, 0.08771)</td>\n",
       "      <td>0.0215</td>\n",
       "    </tr>\n",
       "    <tr>\n",
       "      <td>1</td>\n",
       "      <td>100</td>\n",
       "      <td>0.100</td>\n",
       "      <td>(0.05331, 0.09489)</td>\n",
       "      <td>0.0416</td>\n",
       "      <td>(0.05331, 0.09489)</td>\n",
       "      <td>0.0416</td>\n",
       "    </tr>\n",
       "    <tr>\n",
       "      <td>2</td>\n",
       "      <td>100</td>\n",
       "      <td>0.010</td>\n",
       "      <td>(0.05058, 0.10713)</td>\n",
       "      <td>0.0566</td>\n",
       "      <td>(0.05058, 0.10713)</td>\n",
       "      <td>0.0566</td>\n",
       "    </tr>\n",
       "    <tr>\n",
       "      <td>3</td>\n",
       "      <td>100</td>\n",
       "      <td>0.001</td>\n",
       "      <td>(0.03927, 0.11625)</td>\n",
       "      <td>0.0770</td>\n",
       "      <td>(0.03927, 0.11625)</td>\n",
       "      <td>0.0770</td>\n",
       "    </tr>\n",
       "    <tr>\n",
       "      <td>4</td>\n",
       "      <td>100000</td>\n",
       "      <td>0.500</td>\n",
       "      <td>(0.07221, 0.07274)</td>\n",
       "      <td>0.0005</td>\n",
       "      <td>(0.07221, 0.07274)</td>\n",
       "      <td>0.0005</td>\n",
       "    </tr>\n",
       "    <tr>\n",
       "      <td>5</td>\n",
       "      <td>100000</td>\n",
       "      <td>0.100</td>\n",
       "      <td>(0.07197, 0.07299)</td>\n",
       "      <td>0.0010</td>\n",
       "      <td>(0.07197, 0.07299)</td>\n",
       "      <td>0.0010</td>\n",
       "    </tr>\n",
       "    <tr>\n",
       "      <td>6</td>\n",
       "      <td>100000</td>\n",
       "      <td>0.010</td>\n",
       "      <td>(0.07127, 0.07334)</td>\n",
       "      <td>0.0021</td>\n",
       "      <td>(0.07127, 0.07334)</td>\n",
       "      <td>0.0021</td>\n",
       "    </tr>\n",
       "    <tr>\n",
       "      <td>7</td>\n",
       "      <td>100000</td>\n",
       "      <td>0.001</td>\n",
       "      <td>(0.07164, 0.07348)</td>\n",
       "      <td>0.0018</td>\n",
       "      <td>(0.07164, 0.07348)</td>\n",
       "      <td>0.0018</td>\n",
       "    </tr>\n",
       "  </tbody>\n",
       "</table>\n",
       "</div>"
      ],
      "text/plain": [
       "     size  alpha                 D(X)  | D1(X) - D2(X) |                 D(Y)  \\\n",
       "0     100  0.500   [0.05949, 0.09748]             0.0380   [0.06903, 0.10954]   \n",
       "1     100  0.100    [0.03217, 0.1248]             0.0926   [0.03989, 0.13868]   \n",
       "2     100  0.010   [0.00596, 0.15101]             0.1451   [0.01193, 0.16664]   \n",
       "3     100  0.001  [-0.01416, 0.17113]             0.1853  [-0.00953, 0.18811]   \n",
       "4  100000  0.500   [0.07161, 0.07276]             0.0012   [0.07808, 0.07927]   \n",
       "5  100000  0.100   [0.07079, 0.07358]             0.0028   [0.07722, 0.08013]   \n",
       "6  100000  0.010      [0.07, 0.07438]             0.0044   [0.07639, 0.08096]   \n",
       "7  100000  0.001   [0.06939, 0.07498]             0.0056   [0.07576, 0.08159]   \n",
       "0     100  0.500   (0.06617, 0.08771)             0.0215   (0.06617, 0.08771)   \n",
       "1     100  0.100   (0.05331, 0.09489)             0.0416   (0.05331, 0.09489)   \n",
       "2     100  0.010   (0.05058, 0.10713)             0.0566   (0.05058, 0.10713)   \n",
       "3     100  0.001   (0.03927, 0.11625)             0.0770   (0.03927, 0.11625)   \n",
       "4  100000  0.500   (0.07221, 0.07274)             0.0005   (0.07221, 0.07274)   \n",
       "5  100000  0.100   (0.07197, 0.07299)             0.0010   (0.07197, 0.07299)   \n",
       "6  100000  0.010   (0.07127, 0.07334)             0.0021   (0.07127, 0.07334)   \n",
       "7  100000  0.001   (0.07164, 0.07348)             0.0018   (0.07164, 0.07348)   \n",
       "\n",
       "   | D1(Y) - D2(Y) |  \n",
       "0             0.0405  \n",
       "1             0.0988  \n",
       "2             0.1547  \n",
       "3             0.1976  \n",
       "4             0.0012  \n",
       "5             0.0029  \n",
       "6             0.0046  \n",
       "7             0.0058  \n",
       "0             0.0215  \n",
       "1             0.0416  \n",
       "2             0.0566  \n",
       "3             0.0770  \n",
       "4             0.0005  \n",
       "5             0.0010  \n",
       "6             0.0021  \n",
       "7             0.0018  "
      ]
     },
     "execution_count": 148,
     "metadata": {},
     "output_type": "execute_result"
    }
   ],
   "source": [
    "pd.concat([df_disp_int, df_disp_boot])"
   ]
  },
  {
   "cell_type": "markdown",
   "metadata": {},
   "source": [
    "### Критерий согласия Пирсона"
   ]
  },
  {
   "cell_type": "code",
   "execution_count": 74,
   "metadata": {},
   "outputs": [],
   "source": [
    "def validate_pearson_conditional(f, arg, p_e, edges):\n",
    "    chi = 0\n",
    "    m = len(p_e)\n",
    "    for i, val in enumerate(edges):\n",
    "        pi_s = f.subs({arg:val})\n",
    "        pi = p_e[i] / m\n",
    "        # print(\"Theory: {0} Emperical: {1} --- {2}\".format(pi_s, pi, (pi_s - pi)**2 / pi))\n",
    "        chi += (pi_s - pi)**2 / pi\n",
    "    return chi"
   ]
  },
  {
   "cell_type": "code",
   "execution_count": 75,
   "metadata": {},
   "outputs": [],
   "source": [
    "def validate_pearson_table(table, x_bins, y_bins):\n",
    "    chi = 0\n",
    "    for i, val_i in enumerate(x_bins):\n",
    "        for j, val_j in enumerate(y_bins):\n",
    "            pij_t = f_xy.subs({x:val_i,y:val_j})\n",
    "            pij = table[i][j]\n",
    "            # print(\"Theory: {0} Emperical: {1}\".format(pij_t, pij))\n",
    "            if pij != 0:\n",
    "                chi += (pij_t - pij)**2 / pij\n",
    "    return chi"
   ]
  },
  {
   "cell_type": "code",
   "execution_count": 76,
   "metadata": {},
   "outputs": [
    {
     "name": "stdout",
     "output_type": "stream",
     "text": [
      "Experimental chi square: 1.9774, Table chi square: 177.7186\n",
      "Criterion is accepted\n"
     ]
    }
   ],
   "source": [
    "exp_chi2 = validate_pearson_table(hist, xedges[:-1], yedges[:-1])\n",
    "show_pearson_criterion((len(xedges[:-1]))**2, exp_chi2, 0.01)"
   ]
  },
  {
   "cell_type": "code",
   "execution_count": 77,
   "metadata": {},
   "outputs": [
    {
     "data": {
      "text/latex": [
       "$\\displaystyle 1.71428571428571 x^{2} + 0.428571428571429$"
      ],
      "text/plain": [
       "1.71428571428571*x**2 + 0.428571428571429"
      ]
     },
     "execution_count": 77,
     "metadata": {},
     "output_type": "execute_result"
    }
   ],
   "source": [
    "f_x()"
   ]
  },
  {
   "cell_type": "code",
   "execution_count": 78,
   "metadata": {},
   "outputs": [
    {
     "data": {
      "text/latex": [
       "$\\displaystyle 0.857142857142857 y + 0.571428571428571$"
      ],
      "text/plain": [
       "0.857142857142857*y + 0.571428571428571"
      ]
     },
     "execution_count": 78,
     "metadata": {},
     "output_type": "execute_result"
    }
   ],
   "source": [
    "f_y()"
   ]
  },
  {
   "cell_type": "code",
   "execution_count": 79,
   "metadata": {},
   "outputs": [
    {
     "name": "stdout",
     "output_type": "stream",
     "text": [
      "Chi square for X:\n",
      "Experimental chi square: 0.96622, Table chi square: 4.66043\n",
      "Criterion is accepted\n",
      "\n",
      "Chi square for Y:\n",
      "Experimental chi square: 0.01356, Table chi square: 4.66043\n",
      "Criterion is accepted\n",
      "\n"
     ]
    }
   ],
   "source": [
    "print(\"Chi square for X:\")\n",
    "exp_chi2 = validate_pearson_conditional(f_x(), x, hist.sum(axis=0), xedges[:-1])\n",
    "show_pearson_criterion(len(xedges[:-1]), exp_chi2, 0.01)\n",
    "print()\n",
    "print(\"Chi square for Y:\")\n",
    "exp_chi2 = validate_pearson_conditional(f_y(), y, hist.sum(axis=0), yedges[:-1])\n",
    "show_pearson_criterion(len(yedges[:-1]), exp_chi2, 0.01)\n",
    "print()"
   ]
  },
  {
   "cell_type": "code",
   "execution_count": null,
   "metadata": {},
   "outputs": [],
   "source": []
  },
  {
   "cell_type": "code",
   "execution_count": null,
   "metadata": {},
   "outputs": [],
   "source": []
  },
  {
   "cell_type": "code",
   "execution_count": null,
   "metadata": {},
   "outputs": [],
   "source": []
  },
  {
   "cell_type": "code",
   "execution_count": null,
   "metadata": {},
   "outputs": [],
   "source": []
  },
  {
   "cell_type": "code",
   "execution_count": null,
   "metadata": {},
   "outputs": [],
   "source": []
  },
  {
   "cell_type": "code",
   "execution_count": null,
   "metadata": {},
   "outputs": [],
   "source": []
  },
  {
   "cell_type": "code",
   "execution_count": 80,
   "metadata": {},
   "outputs": [],
   "source": [
    "import numpy as np\n",
    "def temp_gen(n):\n",
    "    return [np.random.uniform() for _ in range(n)]"
   ]
  },
  {
   "cell_type": "code",
   "execution_count": 81,
   "metadata": {},
   "outputs": [],
   "source": [
    "def gen_math():\n",
    "    res = []\n",
    "    for i in range(1000):\n",
    "        samp = temp_gen(1000)\n",
    "        res += [(get_point_math_expectation(samp) - 1/2) / math.sqrt(get_point_dispersion(samp)/(len(samp)-1))]\n",
    "    return res\n",
    "\n",
    "def gen_disp():\n",
    "    res = []\n",
    "    for i in range(1000):\n",
    "        samp = temp_gen(5000)\n",
    "        res += [(get_point_dispersion(samp) - 1/12) / math.sqrt(get_point_dispersion(samp)/(len(samp)-1))]\n",
    "    return res"
   ]
  },
  {
   "cell_type": "code",
   "execution_count": 82,
   "metadata": {},
   "outputs": [
    {
     "name": "stdout",
     "output_type": "stream",
     "text": [
      "CPU times: user 2.75 s, sys: 15.5 ms, total: 2.77 s\n",
      "Wall time: 2.78 s\n",
      "CPU times: user 14.3 s, sys: 59.4 ms, total: 14.4 s\n",
      "Wall time: 14.5 s\n"
     ]
    },
    {
     "data": {
      "image/png": "[encoded data removed]",
      "text/plain": [
       "<Figure size 576x396 with 1 Axes>"
      ]
     },
     "metadata": {},
     "output_type": "display_data"
    }
   ],
   "source": [
    "%time res_math = gen_math()\n",
    "%time res_disp = gen_disp()\n",
    "plt.hist(res_math, density=True);"
   ]
  },
  {
   "cell_type": "code",
   "execution_count": 83,
   "metadata": {},
   "outputs": [
    {
     "data": {
      "image/png": "[encoded data removed]",
      "text/plain": [
       "<Figure size 576x396 with 1 Axes>"
      ]
     },
     "metadata": {},
     "output_type": "display_data"
    }
   ],
   "source": [
    "plt.hist(res_disp, bins=40, density=True);"
   ]
  },
  {
   "cell_type": "code",
   "execution_count": null,
   "metadata": {},
   "outputs": [],
   "source": []
  }
 ],
 "metadata": {
  "kernelspec": {
   "display_name": "Python 3",
   "language": "python",
   "name": "python3"
  },
  "language_info": {
   "codemirror_mode": {
    "name": "ipython",
    "version": 3
   },
   "file_extension": ".py",
   "mimetype": "text/x-python",
   "name": "python",
   "nbconvert_exporter": "python",
   "pygments_lexer": "ipython3",
   "version": "3.7.3"
  }
 },
 "nbformat": 4,
 "nbformat_minor": 2
}

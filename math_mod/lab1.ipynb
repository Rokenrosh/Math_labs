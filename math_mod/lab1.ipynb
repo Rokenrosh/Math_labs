{
 "cells": [
  {
   "cell_type": "markdown",
   "metadata": {},
   "source": [
    "# Лабораторная работа 1"
   ]
  },
  {
   "cell_type": "code",
   "execution_count": 1,
   "metadata": {},
   "outputs": [],
   "source": [
    "import math\n",
    "import time\n",
    "import numpy as np\n",
    "from scipy.stats import kstest\n",
    "from scipy.stats import chisquare\n",
    "from scipy.stats import gamma as gm\n",
    "from scipy.stats import chi2\n",
    "from scipy.stats import t\n",
    "import matplotlib.pyplot as plt\n",
    "import matplotlib.style as mplstyle\n",
    "mplstyle.use(['dark_background'])"
   ]
  },
  {
   "cell_type": "markdown",
   "metadata": {},
   "source": [
    "## Генерация БСВ\n",
    "Мультипликативный конгруэнтный метод"
   ]
  },
  {
   "cell_type": "code",
   "execution_count": 2,
   "metadata": {},
   "outputs": [],
   "source": [
    "class BSV:\n",
    "    def __init__(self):\n",
    "        self.m = 524288\n",
    "        self.k = 401321\n",
    "        self.count = 0\n",
    "        self.prev_a = np.mod(int(time.time() * 1000000), self.m) \n",
    "    \n",
    "    def next(self):\n",
    "        self.prev_a = np.mod(self.k * self.prev_a, self.m)\n",
    "        self.count += 1\n",
    "        return self.prev_a / self.m"
   ]
  },
  {
   "cell_type": "code",
   "execution_count": 3,
   "metadata": {},
   "outputs": [],
   "source": [
    "def bsv(n):\n",
    "    bsv = BSV()\n",
    "    return [bsv.next() for i in range(n)]"
   ]
  },
  {
   "cell_type": "code",
   "execution_count": 4,
   "metadata": {},
   "outputs": [
    {
     "name": "stdout",
     "output_type": "stream",
     "text": [
      "M[X] = 0.5010379974365234 (0.5), D[X] = 0.08461861675799326 (0.08333333333333333)\n"
     ]
    }
   ],
   "source": [
    "seq = bsv(10000)\n",
    "m, v = np.mean(seq), np.var(seq)\n",
    "print('M[X] = {} ({}), D[X] = {} ({})'.format(m, 1./2, v, 1./12))"
   ]
  },
  {
   "cell_type": "code",
   "execution_count": 6,
   "metadata": {},
   "outputs": [],
   "source": [
    "def mean_cinterval(seq, confidence=0.95):\n",
    "    n, mean, s = len(seq), np.mean(seq), np.power(np.var(seq), 1./2)\n",
    "    h = s * np.abs(t.isf(confidence, n-1)) / np.power(n-1, 1./2)\n",
    "    return (mean-h, mean+h)\n",
    "\n",
    "def var_cinterval(seq, confidence=0.95):\n",
    "    n, var = len(seq), np.var(seq)\n",
    "    return (n*var/chi2.isf((1-confidence)/2, n-1), n*var/chi2.isf((1+confidence)/2, n-1))"
   ]
  },
  {
   "cell_type": "markdown",
   "metadata": {},
   "source": [
    "## Тестирование равномерности"
   ]
  },
  {
   "cell_type": "code",
   "execution_count": 7,
   "metadata": {},
   "outputs": [
    {
     "name": "stdout",
     "output_type": "stream",
     "text": [
      "n = 10: M[X] = 0.4775135040283203(d = 0.022486495971679676), D[X] = 0.0657570325792767(d = 0.017576300754056626)\n",
      "n = 100: M[X] = 0.4568427276611328(d = 0.04315727233886718), D[X] = 0.07420708426730707(d = 0.009126249066026257)\n",
      "n = 1000: M[X] = 0.5157493286132813(d = 0.015749328613281266), D[X] = 0.08512898612862825(d = 0.001795652795294922)\n",
      "n = 10000: M[X] = 0.49829822692871095(d = 0.0017017730712890478), D[X] = 0.08278183821227267(d = 0.0005514951210606606)\n"
     ]
    }
   ],
   "source": [
    "for i in range(1, 5):\n",
    "    n = 10 ** i\n",
    "    seq = bsv(n)\n",
    "    m, v = np.mean(seq), np.var(seq)\n",
    "    dm, dv = np.abs(1./2 - m), np.abs(1./12 - v)\n",
    "    print('n = {}: M[X] = {}(d = {}), D[X] = {}(d = {})'.format(n, m, dm, v, dv))"
   ]
  },
  {
   "cell_type": "markdown",
   "metadata": {},
   "source": [
    "## Генерация НСВ с гамма-распределением"
   ]
  },
  {
   "cell_type": "code",
   "execution_count": 8,
   "metadata": {},
   "outputs": [],
   "source": [
    "def gamma_vector(delta, a1, a2):\n",
    "    u0 = 1./(1 + delta/np.e)\n",
    "    if a1 <= u0:\n",
    "        xi = np.power(a1/u0, 1./delta)\n",
    "        eta = a2 * np.power(xi, delta - 1)\n",
    "    else:\n",
    "        xi = 1 - np.log((a1 - u0)/(1 - u0))\n",
    "        eta = a2 * np.exp(-xi)\n",
    "    return xi, eta\n",
    "\n",
    "def next_gamma_z(delta, bsv):\n",
    "    while True:\n",
    "        a1 = bsv.next()\n",
    "        a2 = bsv.next()\n",
    "        xi, eta = gamma_vector(delta, a1, a2)\n",
    "        if eta <= np.power(xi, delta - 1) * np.exp(-xi):\n",
    "            return xi\n",
    "\n",
    "def next_gamma_e(vz, bsv):\n",
    "    return sum([np.log(bsv.next()) for i in range(1, vz+1)])\n",
    "\n",
    "def next_gamma(k, theta, bsv):\n",
    "    vz = int(k)\n",
    "    delta = k - vz\n",
    "    xi_z = 0 if delta == 0 else next_gamma_z(delta, bsv)\n",
    "    return theta * (xi_z - next_gamma_e(vz, bsv))\n",
    "\n",
    "def gamma(n, k, theta):\n",
    "    bsv = BSV()\n",
    "    return [next_gamma(k, theta, bsv) for i in range(n)]\n",
    "\n",
    "def hist_bins(n):\n",
    "    if n <= 100:\n",
    "        return int(np.power(n, 1./2))\n",
    "    else:\n",
    "        return int(3.4 * np.log10(n))"
   ]
  },
  {
   "cell_type": "code",
   "execution_count": 9,
   "metadata": {},
   "outputs": [
    {
     "name": "stdout",
     "output_type": "stream",
     "text": [
      "M[X]: 11.399999999999999, 10.995676017375844\n",
      "D[X]: 113.99999999999999, 106.32862140730545\n",
      "mean confident interval: (10.458554537758843, 11.532797496992846)\n",
      "var confident interval: (97.68478152840801, 116.42232035766669)\n",
      "chi2: Power_divergenceResult(statistic=0.018754655875350766, pvalue=0.9999998635315097)\n"
     ]
    },
    {
     "data": {
      "image/png": "[encoded data removed]",
      "text/plain": [
       "<Figure size 432x288 with 1 Axes>"
      ]
     },
     "metadata": {
      "needs_background": "dark"
     },
     "output_type": "display_data"
    }
   ],
   "source": [
    "k = 1.14\n",
    "th = 10\n",
    "n = 1000\n",
    "seq = gamma(n, k, th)\n",
    "sbins = np.arange(0, max(seq), max(seq)/hist_bins(n))\n",
    "hist, _ = np.histogram(seq, bins=sbins)\n",
    "hist = hist/n\n",
    "plt.hist(_[:-1], _, weights=hist)\n",
    "seq2 = gm.rvs(k, scale=th, size=n)\n",
    "hist2, _ = np.histogram(seq2, bins=sbins)\n",
    "hist2 = hist2/n\n",
    "print('M[X]: {}, {}'.format(k*th, np.mean(seq)))\n",
    "print('D[X]: {}, {}'.format(k*(th**2), np.var(seq)))\n",
    "print('mean confident interval:', mean_cinterval(seq))\n",
    "print('var confident interval:', var_cinterval(seq))\n",
    "print('chi2:', chisquare(f_obs=hist, f_exp=hist2, ddof=2))\n",
    "plt.show()"
   ]
  },
  {
   "cell_type": "markdown",
   "metadata": {},
   "source": [
    "## Генерация ДСВ\n",
    "Универсальный метод"
   ]
  },
  {
   "cell_type": "code",
   "execution_count": 10,
   "metadata": {},
   "outputs": [],
   "source": [
    "def take_c(c, q, a):\n",
    "    i, ln = 0, len(q)\n",
    "    while i < ln-1:\n",
    "        if a < q[i]:\n",
    "            break\n",
    "        i += 1\n",
    "    return c[i]\n",
    "\n",
    "def discrete(c, p, n=100):\n",
    "    bsv = BSV()\n",
    "    q = [p[0]]\n",
    "    for i in range(1, len(p)):\n",
    "        q.append(p[i] + q[-1])\n",
    "    return np.array([take_c(c, q, bsv.next()) for i in range(n)])"
   ]
  },
  {
   "cell_type": "code",
   "execution_count": 11,
   "metadata": {},
   "outputs": [
    {
     "name": "stdout",
     "output_type": "stream",
     "text": [
      "M[X]: 2.5999999999999996, 2.635\n",
      "D[X]: 0.44000000000000006, 0.4057750000000001\n",
      "mean confident interval: (2.601818954053095, 2.6681810459469046)\n",
      "var confident interval: (0.37278807624949034, 0.4442949265952435)\n",
      "chi2: Power_divergenceResult(statistic=0.002097210944725948, pvalue=0.998951944122236)\n"
     ]
    },
    {
     "data": {
      "image/png": "[encoded data removed]",
      "text/plain": [
       "<Figure size 432x288 with 1 Axes>"
      ]
     },
     "metadata": {
      "needs_background": "dark"
     },
     "output_type": "display_data"
    }
   ],
   "source": [
    "c = [1, 2, 3]\n",
    "count = len(c)\n",
    "p = [0.1, 0.2, 0.7]\n",
    "seq = discrete(c, p, 1000)\n",
    "dbins = [0]+[x+0.001 for x in c]\n",
    "hist, _ = np.histogram(seq, bins=dbins, density=True)\n",
    "plt.hist(_[:-1], _, weights=hist)\n",
    "seq2 = np.random.choice(c, 1000, p=p)\n",
    "hist2, _ = np.histogram(seq2, bins=dbins, density=True)\n",
    "m = sum([c[i]*p[i] for i in range(count)])\n",
    "v = sum([(c[i] - m)**2 * p[i] for i in range(count)])\n",
    "print('M[X]: {}, {}'.format(m, np.mean(seq)))\n",
    "print('D[X]: {}, {}'.format(v, np.var(seq)))\n",
    "print('mean confident interval:', mean_cinterval(seq))\n",
    "print('var confident interval:', var_cinterval(seq))\n",
    "print('chi2:', chisquare(f_obs=hist, f_exp=hist2, ddof=0))\n",
    "plt.show()"
   ]
  },
  {
   "cell_type": "code",
   "execution_count": 12,
   "metadata": {},
   "outputs": [],
   "source": [
    "def check_xy(x, y, i, j, ixy, bins_x, bins_y):\n",
    "    c1 = x[ixy] >= bins_x[i] and x[ixy] < bins_x[i+1]\n",
    "    c2 = y[ixy] >= bins_y[j] and y[ixy] < bins_y[j+1]\n",
    "    return c1 and c2\n",
    "\n",
    "def xy_hist(x, y, bins_x, bins_y):\n",
    "    x.sort()\n",
    "    y.sort()\n",
    "    hist_x, _ = np.histogram(x, bins=bins_x)\n",
    "    hist_y, _ = np.histogram(y, bins=bins_y)\n",
    "    n, k, m = len(x), len(hist_x), len(hist_y)\n",
    "    v = np.zeros((k, m))\n",
    "    for i in range(k):\n",
    "        for j in range(m):\n",
    "            v[i][j] = len([0 for ii in range(n) if check_xy(x, y, i, j, ii, bins_x, bins_y)])\n",
    "    st = 0\n",
    "    for i in range(k):\n",
    "        for j in range(m):\n",
    "            st += ((v[i][j] - hist_x[i] * hist_y[j] / n)**2)/(hist_x[i] * hist_y[j])\n",
    "    chi = chi2.isf(0.95, (k - 1)*(m - 1))\n",
    "    return st, chi"
   ]
  },
  {
   "cell_type": "code",
   "execution_count": 14,
   "metadata": {},
   "outputs": [
    {
     "name": "stdout",
     "output_type": "stream",
     "text": [
      "(7.299509952322644, 46.59490522481397)\n"
     ]
    }
   ],
   "source": [
    "n = 1000\n",
    "seq1, seq2 = bsv(n), bsv(n)\n",
    "bins1, bins2 = np.arange(0, max(seq1), max(seq1)/hist_bins(n)), np.arange(0, max(seq2), max(seq2)/hist_bins(n))\n",
    "hist1, _b1 = np.histogram(seq1, bins=bins1)\n",
    "hist2, _b2 = np.histogram(seq2, bins=bins2)\n",
    "print(xy_hist(seq1, seq2, bins1, bins2))"
   ]
  },
  {
   "cell_type": "code",
   "execution_count": null,
   "metadata": {},
   "outputs": [],
   "source": []
  },
  {
   "cell_type": "code",
   "execution_count": null,
   "metadata": {},
   "outputs": [],
   "source": []
  }
 ],
 "metadata": {
  "file_extension": ".py",
  "kernelspec": {
   "display_name": "Python 3",
   "language": "python",
   "name": "python3"
  },
  "language_info": {
   "codemirror_mode": {
    "name": "ipython",
    "version": 3
   },
   "file_extension": ".py",
   "mimetype": "text/x-python",
   "name": "python",
   "nbconvert_exporter": "python",
   "pygments_lexer": "ipython3",
   "version": "3.7.3"
  },
  "mimetype": "text/x-python",
  "name": "python",
  "npconvert_exporter": "python",
  "pygments_lexer": "ipython3",
  "version": 3
 },
 "nbformat": 4,
 "nbformat_minor": 2
}

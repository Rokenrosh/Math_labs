{
 "cells": [
  {
   "cell_type": "markdown",
   "metadata": {},
   "source": [
    "### Математическое моделирование\n",
    "### Лабораторная №2\n",
    "### Генерация систем непрерывных и дискретных случайных величин"
   ]
  },
  {
   "cell_type": "markdown",
   "metadata": {},
   "source": [
    "### Задание b\n",
    "Написать программу реализующую метод формирования двумерной ДСВ. Выполнить статистическое исследование (построение эмпирической матрицы распределения, гистограммы составляющих вектора, вычислить точечные и интервальные оценки, коэффициент корреляции). Проверить гипотезы о соответствии закона распределения полученной случайной величины требуемому. Проверить гипотезы о соответствии полученных оценок характеристик (математическое ожидание, дисперсия, корреляция) случайной величины теоретическим."
   ]
  },
  {
   "cell_type": "code",
   "execution_count": 44,
   "metadata": {},
   "outputs": [],
   "source": [
    "# Imports\n",
    "import numpy as np\n",
    "import math\n",
    "import random\n",
    "import pandas as pd\n",
    "import matplotlib.pyplot as plt\n",
    "import seaborn as sns\n",
    "import scipy.stats as sts\n",
    "\n",
    "from statlib.genarator import Generator"
   ]
  },
  {
   "cell_type": "code",
   "execution_count": 45,
   "metadata": {},
   "outputs": [
    {
     "data": {
      "text/plain": [
       "<Figure size 1008x864 with 0 Axes>"
      ]
     },
     "metadata": {},
     "output_type": "display_data"
    }
   ],
   "source": [
    "plt.style.use('seaborn');\n",
    "plt.figure(figsize=(14,12));"
   ]
  },
  {
   "cell_type": "code",
   "execution_count": 12,
   "metadata": {},
   "outputs": [],
   "source": [
    "def generate_sample(gen: Generator, n: int):\n",
    "    return [gen.next() for _ in range(n)]\n",
    "\n",
    "def get_segments(n):\n",
    "    if n <= 100: return int(math.sqrt(n))\n",
    "    return int(2*math.log(n))\n",
    "\n",
    "def get_base_generator(gen):\n",
    "    def generator(n):\n",
    "        return generate_sample(gen, n)\n",
    "    return generator"
   ]
  },
  {
   "cell_type": "code",
   "execution_count": 13,
   "metadata": {},
   "outputs": [],
   "source": [
    "gen = Generator()\n",
    "base_genarator = get_base_generator(gen)"
   ]
  },
  {
   "cell_type": "markdown",
   "metadata": {},
   "source": [
    "Сгенерируем двумерную матрицу распределений"
   ]
  },
  {
   "cell_type": "code",
   "execution_count": 14,
   "metadata": {},
   "outputs": [],
   "source": [
    "def generate_prob_matrix(base_genarator, n, m):\n",
    "    sample = base_genarator(n*m)\n",
    "    matrix = np.array(sample).reshape(n, m)\n",
    "    norm_sum = sum(sum(matrix))\n",
    "    return matrix / norm_sum\n",
    "    \n",
    "def generate_X(n):\n",
    "    res = random.sample(range(n + 5), n)\n",
    "    return sorted(res)"
   ]
  },
  {
   "cell_type": "code",
   "execution_count": 15,
   "metadata": {},
   "outputs": [
    {
     "data": {
      "text/plain": [
       "[0, 1, 2, 3, 5]"
      ]
     },
     "execution_count": 15,
     "metadata": {},
     "output_type": "execute_result"
    }
   ],
   "source": [
    "generate_X(5)"
   ]
  },
  {
   "cell_type": "code",
   "execution_count": 55,
   "metadata": {},
   "outputs": [],
   "source": [
    "class DiscreteSystem:\n",
    "    def __init__(self, XY_distr, gen_size=1000):\n",
    "        self.distr = XY_distr\n",
    "        self.p_X = self.get_p_X(XY_distr)\n",
    "        self.p_Y = self.get_p_Y(XY_distr)\n",
    "        self.x_intervals = self.get_intervals(self.p_X)\n",
    "        self.y_intervals = self.get_intervals(self.p_Y)\n",
    "        self.n, self.m = self.distr.shape\n",
    "        self.size = self.n * self.m\n",
    "        self.gen_size = size\n",
    "        self.X = generate_X(n)\n",
    "        self.Y = generate_X(m)\n",
    "        self.emp_matrix = np.zeros((self.n, self.m))\n",
    "        self.create_emperical_distribution_matrix()\n",
    "        self.emp_p_X = self.get_p_X(self.emp_matrix)\n",
    "        self.emp_p_Y = self.get_p_Y(self.emp_matrix)\n",
    "\n",
    "    # distribution series for X\n",
    "    def get_p_X(self, prob_matrix) -> list:\n",
    "        return np.sum(prob_matrix, axis=1)\n",
    "    \n",
    "    # distribution series for Y\n",
    "    def get_p_Y(self, prob_matrix) -> list:\n",
    "        return np.sum(prob_matrix, axis=0)\n",
    "    \n",
    "    def get_intervals(self, p_X: list):\n",
    "        F_X = [0]\n",
    "        for i in range(len(p_X)):\n",
    "            F_X.append(F_X[i] + p_X[i])\n",
    "        return F_X\n",
    "    \n",
    "    def create_emperical_distribution_matrix(self):\n",
    "        self.fill_matrix()\n",
    "        self.emp_matrix /= self.gen_size\n",
    "        \n",
    "    def fill_matrix(self):\n",
    "        k, l = 0, 0\n",
    "        for i in range(self.gen_size):\n",
    "            val_x = gen.next()\n",
    "            for j in range(self.n + 1):\n",
    "                if val_x <= self.x_intervals[j]:\n",
    "                    k = j - 1\n",
    "                    break\n",
    "                    \n",
    "            y_k_interval = self.get_intervals(self.distr[k])\n",
    "            val_y = gen.next() * self.p_X[k]\n",
    "            for j in range(self.m + 1):\n",
    "                if val_y <= y_k_interval[j]:\n",
    "                    # print(k, val_x, val_y, y_k_interval)\n",
    "                    l = j - 1\n",
    "                    break\n",
    "            self.emp_matrix[k, l] += 1"
   ]
  },
  {
   "cell_type": "code",
   "execution_count": 56,
   "metadata": {},
   "outputs": [],
   "source": [
    "def generate_distribution(size: int, n: int, m: int, debug=False):\n",
    "    XY_prob_matrix = generate_prob_matrix(base_genarator, n, m)\n",
    "    X = range(n)\n",
    "    Y = range(m)\n",
    "    if debug:\n",
    "        print(\"X: {}\".format(X))\n",
    "        print(\"Y: {}\".format(Y))\n",
    "    if abs(sum(sum(XY_prob_matrix)) - 1.0) > 10e-5: raise(\"Сумма всех элементов != 1\")\n",
    "    return DiscreteSystem(XY_prob_matrix, gen_size=size)"
   ]
  },
  {
   "cell_type": "code",
   "execution_count": 65,
   "metadata": {},
   "outputs": [],
   "source": [
    "size = 100000\n",
    "XY_prob_matrix = np.array([[0.2, 0.2],\n",
    "                             [0.3, 0.3]])\n",
    "ds = DiscreteSystem(XY_prob_matrix, gen_size=size)\n",
    "n = 10\n",
    "m = 8\n",
    "# ds = generate_distribution(size, n, m, debug=True)"
   ]
  },
  {
   "cell_type": "code",
   "execution_count": 66,
   "metadata": {},
   "outputs": [
    {
     "name": "stdout",
     "output_type": "stream",
     "text": [
      "Empirical matrix:\n",
      "[[0.20031 0.1979 ]\n",
      " [0.30109 0.3007 ]]\n",
      "\n",
      "Theoretical matrix:\n",
      "[[0.2 0.2]\n",
      " [0.3 0.3]]\n",
      "\n",
      "Theoretical values:\n",
      "P(X):  [0.4 0.6]\n",
      "F(X):  [0, 0.4, 1.0]\n",
      "\n",
      "P(Y):  [0.5 0.5]\n",
      "F(Y):  [0, 0.5, 1.0]\n",
      "\n",
      "Empirical values: \n",
      "P(X):  [0.39821 0.60179]\n",
      "F(X):  [0, 0.39820999999999995, 1.0]\n",
      "\n",
      "P(Y):  [0.5014 0.4986]\n",
      "F(Y):  [0, 0.5014000000000001, 1.0]\n",
      "\n"
     ]
    }
   ],
   "source": [
    "print(\"Empirical matrix:\")\n",
    "print(ds.emp_matrix)\n",
    "print()\n",
    "print(\"Theoretical matrix:\")\n",
    "print(ds.distr)\n",
    "print()\n",
    "print(\"Theoretical values:\")\n",
    "print(\"P(X): \", ds.get_p_X(ds.distr))\n",
    "print(\"F(X): \", ds.x_intervals)\n",
    "print()\n",
    "print(\"P(Y): \", ds.get_p_Y(ds.distr))\n",
    "print(\"F(Y): \", ds.y_intervals)\n",
    "print()\n",
    "print(\"Empirical values: \")\n",
    "print(\"P(X): \", ds.get_p_X(ds.emp_matrix))\n",
    "print(\"F(X): \", ds.get_intervals(ds.emp_p_X))\n",
    "print()\n",
    "print(\"P(Y): \", ds.get_p_Y(ds.emp_matrix))\n",
    "print(\"F(Y): \", ds.get_intervals(ds.emp_p_Y))\n",
    "print()"
   ]
  },
  {
   "cell_type": "markdown",
   "metadata": {},
   "source": [
    "### Гистограммы составляющих векторов X и Y"
   ]
  },
  {
   "cell_type": "code",
   "execution_count": 63,
   "metadata": {},
   "outputs": [],
   "source": [
    "def plot_hist_for_X(ds: DiscreteSystem, width=0.4): \n",
    "    XX = np.array(ds.X) + width / 2\n",
    "    X = np.array(ds.X) - width / 2\n",
    "    plt.bar(X, ds.emp_p_X, width, color='darkcyan', edgecolor = 'black', alpha=.7, label=\"Emperical\")\n",
    "    plt.bar(XX, ds.p_X, width, color='darkgreen', edgecolor = 'black', alpha=.7, label=\"Theoretical\")\n",
    "    plt.title('Probability distribution X components')\n",
    "    plt.legend()\n",
    "    plt.show()\n",
    "    \n",
    "def plot_hist_for_Y(ds: DiscreteSystem, width=0.4):\n",
    "    YY = np.array(ds.Y) + width / 2\n",
    "    Y = np.array(ds.Y) - width / 2\n",
    "    plt.bar(Y, ds.emp_p_Y, width, color='orange', edgecolor = 'black', alpha=.7)\n",
    "    plt.bar(YY, ds.p_Y, width, color='darkgreen', edgecolor = 'black', alpha=.7)\n",
    "    plt.title('Probability distribution Y components')\n",
    "    plt.show()"
   ]
  },
  {
   "cell_type": "code",
   "execution_count": 64,
   "metadata": {},
   "outputs": [
    {
     "data": {
      "image/png": "[encoded data removed]",
      "text/plain": [
       "<Figure size 576x396 with 1 Axes>"
      ]
     },
     "metadata": {},
     "output_type": "display_data"
    },
    {
     "data": {
      "image/png": "[encoded data removed]",
      "text/plain": [
       "<Figure size 576x396 with 1 Axes>"
      ]
     },
     "metadata": {},
     "output_type": "display_data"
    }
   ],
   "source": [
    "plot_hist_for_X(ds)\n",
    "plot_hist_for_Y(ds)"
   ]
  },
  {
   "cell_type": "markdown",
   "metadata": {},
   "source": [
    "### Вычисление точечных оценок\n",
    "1. Матожидания\n",
    "2. Дисперсии"
   ]
  },
  {
   "cell_type": "code",
   "execution_count": 30,
   "metadata": {},
   "outputs": [],
   "source": [
    "def get_math_coeff_X(distr, X):\n",
    "    return distr.sum(axis=1).dot(X)\n",
    "\n",
    "def get_math_coeff_Y(distr, Y):\n",
    "    return distr.sum(axis=0).dot(Y)\n",
    "\n",
    "def get_math_coeff_XY(distr, X, Y):\n",
    "    M_X = get_math_coeff_X(distr, X)\n",
    "    M_Y = get_math_coeff_Y(distr, Y)\n",
    "    return M_X, M_Y\n",
    "\n",
    "def get_dispersion_XY(distr, X, Y):\n",
    "    M_X, M_Y = get_math_coeff_XY(distr, X, Y)\n",
    "    D_X = distr.sum(axis=1).dot((X - M_X)**2)\n",
    "    D_Y = distr.sum(axis=0).dot((Y - M_Y)**2)\n",
    "    return D_X, D_Y\n",
    "\n",
    "def get_correlation_coeff(distr, X, Y):\n",
    "    M_X, M_Y = get_math_coeff_XY(distr, X, Y)\n",
    "    D_X, D_Y = get_dispersion_XY(distr, X, Y)\n",
    "    X_i, Y_j = (X - M_X), (Y - M_Y)\n",
    "    n, m = distr.shape\n",
    "    K_XY = 0\n",
    "    for i in range(n):\n",
    "        for j in range(m):\n",
    "            K_XY += X_i[i] * Y_j[j] * distr[i, j]\n",
    "    r = K_XY / math.sqrt(D_X * D_Y)\n",
    "    return r"
   ]
  },
  {
   "cell_type": "code",
   "execution_count": 31,
   "metadata": {},
   "outputs": [],
   "source": [
    "def get_math_coeff_point_estimation(prob_matrix, X, Y, ns):\n",
    "    coeff = []\n",
    "    for n in sizes:\n",
    "        discrete_sys = DiscreteSystem(prob_matrix, gen_size=n)\n",
    "        mx, my = get_math_coeff_XY(prob_matrix, X, Y)\n",
    "        emp_mx, emp_my = get_math_coeff_XY(discrete_sys.emp_matrix, X, Y)\n",
    "        coeff.append([mx, emp_mx, my, emp_my])\n",
    "    return pd.DataFrame(data={\n",
    "        'n': ns,\n",
    "        'M[X]': [round(x[0],4) for x in coeff],\n",
    "        'Emperical M[X]': [round(x[1],4) for x in coeff],\n",
    "        'M[Y]': [round(x[2],4) for x in coeff],\n",
    "        'Emperical M[Y]': [round(x[3],4) for x in coeff]})\n",
    "\n",
    "\n",
    "def get_dispersion_point_estimation(prob_matrix, X, Y, ns):\n",
    "    coeff = []\n",
    "    for n in sizes:\n",
    "        discrete_sys = DiscreteSystem(prob_matrix, gen_size=n)\n",
    "        dx, dy = get_dispersion_XY(prob_matrix, X, Y)\n",
    "        emp_dx, emp_dy = get_dispersion_XY(discrete_sys.emp_matrix, X, Y)\n",
    "        coeff.append([dx, emp_dx, dy, emp_dy])\n",
    "    return pd.DataFrame(data={\n",
    "        'n': ns,\n",
    "        'D[X]': [round(x[0],4) for x in coeff],\n",
    "        'Emperical D[X]': [round(x[1],4) for x in coeff],\n",
    "        'D[Y]': [round(x[2],4) for x in coeff],\n",
    "        'Emperical D[Y]': [round(x[3],4) for x in coeff]})\n",
    "\n",
    "\n",
    "def get_correlation_point_estimation(prob_matrix, X, Y, ns):\n",
    "    coeff = []\n",
    "    for n in sizes:\n",
    "        ds = DiscreteSystem(prob_matrix, gen_size=n)\n",
    "        k_xy = get_correlation_coeff(ds.emp_matrix, X, Y)\n",
    "        coeff.append(k_xy)\n",
    "    return pd.DataFrame(data={\n",
    "        'n': ns,\n",
    "        'K_XY': [round(x,4) for x in coeff]})"
   ]
  },
  {
   "cell_type": "code",
   "execution_count": 32,
   "metadata": {},
   "outputs": [
    {
     "data": {
      "text/html": [
       "<div>\n",
       "<style scoped>\n",
       "    .dataframe tbody tr th:only-of-type {\n",
       "        vertical-align: middle;\n",
       "    }\n",
       "\n",
       "    .dataframe tbody tr th {\n",
       "        vertical-align: top;\n",
       "    }\n",
       "\n",
       "    .dataframe thead th {\n",
       "        text-align: right;\n",
       "    }\n",
       "</style>\n",
       "<table border=\"1\" class=\"dataframe\">\n",
       "  <thead>\n",
       "    <tr style=\"text-align: right;\">\n",
       "      <th></th>\n",
       "      <th>n</th>\n",
       "      <th>M[X]</th>\n",
       "      <th>Emperical M[X]</th>\n",
       "      <th>M[Y]</th>\n",
       "      <th>Emperical M[Y]</th>\n",
       "    </tr>\n",
       "  </thead>\n",
       "  <tbody>\n",
       "    <tr>\n",
       "      <td>0</td>\n",
       "      <td>10</td>\n",
       "      <td>5.7694</td>\n",
       "      <td>5.7366</td>\n",
       "      <td>7.5396</td>\n",
       "      <td>7.5471</td>\n",
       "    </tr>\n",
       "    <tr>\n",
       "      <td>1</td>\n",
       "      <td>100</td>\n",
       "      <td>5.7694</td>\n",
       "      <td>5.7669</td>\n",
       "      <td>7.5396</td>\n",
       "      <td>7.5686</td>\n",
       "    </tr>\n",
       "    <tr>\n",
       "      <td>2</td>\n",
       "      <td>1000</td>\n",
       "      <td>5.7694</td>\n",
       "      <td>5.7617</td>\n",
       "      <td>7.5396</td>\n",
       "      <td>7.5367</td>\n",
       "    </tr>\n",
       "    <tr>\n",
       "      <td>3</td>\n",
       "      <td>10000</td>\n",
       "      <td>5.7694</td>\n",
       "      <td>5.7520</td>\n",
       "      <td>7.5396</td>\n",
       "      <td>7.5323</td>\n",
       "    </tr>\n",
       "    <tr>\n",
       "      <td>4</td>\n",
       "      <td>100000</td>\n",
       "      <td>5.7694</td>\n",
       "      <td>5.7517</td>\n",
       "      <td>7.5396</td>\n",
       "      <td>7.5551</td>\n",
       "    </tr>\n",
       "  </tbody>\n",
       "</table>\n",
       "</div>"
      ],
      "text/plain": [
       "        n    M[X]  Emperical M[X]    M[Y]  Emperical M[Y]\n",
       "0      10  5.7694          5.7366  7.5396          7.5471\n",
       "1     100  5.7694          5.7669  7.5396          7.5686\n",
       "2    1000  5.7694          5.7617  7.5396          7.5367\n",
       "3   10000  5.7694          5.7520  7.5396          7.5323\n",
       "4  100000  5.7694          5.7517  7.5396          7.5551"
      ]
     },
     "execution_count": 32,
     "metadata": {},
     "output_type": "execute_result"
    }
   ],
   "source": [
    "sizes = [10, 100, 1000, 10000, 100000]\n",
    "get_math_coeff_point_estimation(ds.distr, ds.X, ds.Y, sizes)"
   ]
  },
  {
   "cell_type": "code",
   "execution_count": 33,
   "metadata": {},
   "outputs": [
    {
     "data": {
      "text/html": [
       "<div>\n",
       "<style scoped>\n",
       "    .dataframe tbody tr th:only-of-type {\n",
       "        vertical-align: middle;\n",
       "    }\n",
       "\n",
       "    .dataframe tbody tr th {\n",
       "        vertical-align: top;\n",
       "    }\n",
       "\n",
       "    .dataframe thead th {\n",
       "        text-align: right;\n",
       "    }\n",
       "</style>\n",
       "<table border=\"1\" class=\"dataframe\">\n",
       "  <thead>\n",
       "    <tr style=\"text-align: right;\">\n",
       "      <th></th>\n",
       "      <th>n</th>\n",
       "      <th>D[X]</th>\n",
       "      <th>Emperical D[X]</th>\n",
       "      <th>D[Y]</th>\n",
       "      <th>Emperical D[Y]</th>\n",
       "    </tr>\n",
       "  </thead>\n",
       "  <tbody>\n",
       "    <tr>\n",
       "      <td>0</td>\n",
       "      <td>10</td>\n",
       "      <td>21.8004</td>\n",
       "      <td>21.8843</td>\n",
       "      <td>11.9094</td>\n",
       "      <td>11.9060</td>\n",
       "    </tr>\n",
       "    <tr>\n",
       "      <td>1</td>\n",
       "      <td>100</td>\n",
       "      <td>21.8004</td>\n",
       "      <td>21.7226</td>\n",
       "      <td>11.9094</td>\n",
       "      <td>11.8543</td>\n",
       "    </tr>\n",
       "    <tr>\n",
       "      <td>2</td>\n",
       "      <td>1000</td>\n",
       "      <td>21.8004</td>\n",
       "      <td>21.7696</td>\n",
       "      <td>11.9094</td>\n",
       "      <td>11.9387</td>\n",
       "    </tr>\n",
       "    <tr>\n",
       "      <td>3</td>\n",
       "      <td>10000</td>\n",
       "      <td>21.8004</td>\n",
       "      <td>21.8597</td>\n",
       "      <td>11.9094</td>\n",
       "      <td>11.9401</td>\n",
       "    </tr>\n",
       "    <tr>\n",
       "      <td>4</td>\n",
       "      <td>100000</td>\n",
       "      <td>21.8004</td>\n",
       "      <td>21.8338</td>\n",
       "      <td>11.9094</td>\n",
       "      <td>11.9237</td>\n",
       "    </tr>\n",
       "  </tbody>\n",
       "</table>\n",
       "</div>"
      ],
      "text/plain": [
       "        n     D[X]  Emperical D[X]     D[Y]  Emperical D[Y]\n",
       "0      10  21.8004         21.8843  11.9094         11.9060\n",
       "1     100  21.8004         21.7226  11.9094         11.8543\n",
       "2    1000  21.8004         21.7696  11.9094         11.9387\n",
       "3   10000  21.8004         21.8597  11.9094         11.9401\n",
       "4  100000  21.8004         21.8338  11.9094         11.9237"
      ]
     },
     "execution_count": 33,
     "metadata": {},
     "output_type": "execute_result"
    }
   ],
   "source": [
    "sizes = [10, 100, 1000, 10000, 100000]\n",
    "get_dispersion_point_estimation(ds.distr, ds.X, ds.Y, sizes)"
   ]
  },
  {
   "cell_type": "markdown",
   "metadata": {},
   "source": [
    "### Вычисление точечной оценки: коэффициента корреляции"
   ]
  },
  {
   "cell_type": "code",
   "execution_count": 34,
   "metadata": {},
   "outputs": [
    {
     "data": {
      "text/html": [
       "<div>\n",
       "<style scoped>\n",
       "    .dataframe tbody tr th:only-of-type {\n",
       "        vertical-align: middle;\n",
       "    }\n",
       "\n",
       "    .dataframe tbody tr th {\n",
       "        vertical-align: top;\n",
       "    }\n",
       "\n",
       "    .dataframe thead th {\n",
       "        text-align: right;\n",
       "    }\n",
       "</style>\n",
       "<table border=\"1\" class=\"dataframe\">\n",
       "  <thead>\n",
       "    <tr style=\"text-align: right;\">\n",
       "      <th></th>\n",
       "      <th>n</th>\n",
       "      <th>K_XY</th>\n",
       "    </tr>\n",
       "  </thead>\n",
       "  <tbody>\n",
       "    <tr>\n",
       "      <td>0</td>\n",
       "      <td>10</td>\n",
       "      <td>0.0040</td>\n",
       "    </tr>\n",
       "    <tr>\n",
       "      <td>1</td>\n",
       "      <td>100</td>\n",
       "      <td>0.0021</td>\n",
       "    </tr>\n",
       "    <tr>\n",
       "      <td>2</td>\n",
       "      <td>1000</td>\n",
       "      <td>0.0001</td>\n",
       "    </tr>\n",
       "    <tr>\n",
       "      <td>3</td>\n",
       "      <td>10000</td>\n",
       "      <td>-0.0021</td>\n",
       "    </tr>\n",
       "    <tr>\n",
       "      <td>4</td>\n",
       "      <td>100000</td>\n",
       "      <td>0.0015</td>\n",
       "    </tr>\n",
       "  </tbody>\n",
       "</table>\n",
       "</div>"
      ],
      "text/plain": [
       "        n    K_XY\n",
       "0      10  0.0040\n",
       "1     100  0.0021\n",
       "2    1000  0.0001\n",
       "3   10000 -0.0021\n",
       "4  100000  0.0015"
      ]
     },
     "execution_count": 34,
     "metadata": {},
     "output_type": "execute_result"
    }
   ],
   "source": [
    "sizes = [10, 100, 1000, 10000, 100000]\n",
    "get_correlation_point_estimation(ds.distr, ds.X, ds.Y, sizes)"
   ]
  },
  {
   "cell_type": "markdown",
   "metadata": {},
   "source": [
    "### Построение интервальных оценок\n",
    "1. Матожидания\n",
    "2. Дисперсии"
   ]
  },
  {
   "cell_type": "markdown",
   "metadata": {},
   "source": [
    "### Доверительный интервал для математического ожидания"
   ]
  },
  {
   "cell_type": "code",
   "execution_count": 35,
   "metadata": {},
   "outputs": [],
   "source": [
    "def get_math_interval(M, D, n, a):\n",
    "    #Квантиль нормального распределение уровня (1 - a/2)\n",
    "    stat = sts.norm.ppf(1 - a/2)\n",
    "    l, r = round(M - math.sqrt(D/(n-1))*stat, 5), round(M + math.sqrt(D/(n-1))*stat, 5)\n",
    "    return l, r\n",
    "\n",
    "def math_expectation_interval(ds: DiscreteSystem, X, Y, a):\n",
    "    M_X, M_Y = get_math_coeff_XY(ds.emp_matrix, X, Y)\n",
    "    D_X, D_Y = get_dispersion_XY(ds.emp_matrix, X, Y)\n",
    "    size = ds.n * ds.m\n",
    "    l_x, r_x = get_math_interval(M_X, D_X, size, a)\n",
    "    l_y, r_y = get_math_interval(M_Y, D_Y, size, a)\n",
    "    return ([l_x, r_x], [l_y, r_y])\n",
    "\n",
    "def show_math_expectation_interval(prob_matrix, X, Y, sizes, alphas):\n",
    "    coeff = []\n",
    "    for n in sizes:\n",
    "        ds = DiscreteSystem(prob_matrix, gen_size=n)\n",
    "        for a in alphas:\n",
    "            mei_X, mei_Y = math_expectation_interval(ds, X, Y, a)\n",
    "            coeff.append([n, a, str(mei_X), abs(mei_X[0] - mei_X[1]), str(mei_Y), abs(mei_Y[0] - mei_Y[1])])\n",
    "    return pd.DataFrame(data={\n",
    "            'size': [x[0] for x in coeff],\n",
    "            'alpha': [x[1] for x in coeff],\n",
    "            'M(X)': [x[2] for x in coeff],\n",
    "            '| M1(X) - M2(X) |': [round(x[3],4) for x in coeff],\n",
    "            'M(Y)': [x[4] for x in coeff],\n",
    "            '| M1(Y) - M2(Y) |': [round(x[5],4) for x in coeff]})"
   ]
  },
  {
   "cell_type": "code",
   "execution_count": 36,
   "metadata": {},
   "outputs": [
    {
     "name": "stdout",
     "output_type": "stream",
     "text": [
      "Theoretical D(X): 5.76942\n",
      "Empirical D(X): 5.78255\n",
      "\n",
      "Theoretical D(Y): 7.53957\n",
      "Empirical D(Y): 7.52387\n",
      "\n"
     ]
    },
    {
     "data": {
      "text/html": [
       "<div>\n",
       "<style scoped>\n",
       "    .dataframe tbody tr th:only-of-type {\n",
       "        vertical-align: middle;\n",
       "    }\n",
       "\n",
       "    .dataframe tbody tr th {\n",
       "        vertical-align: top;\n",
       "    }\n",
       "\n",
       "    .dataframe thead th {\n",
       "        text-align: right;\n",
       "    }\n",
       "</style>\n",
       "<table border=\"1\" class=\"dataframe\">\n",
       "  <thead>\n",
       "    <tr style=\"text-align: right;\">\n",
       "      <th></th>\n",
       "      <th>size</th>\n",
       "      <th>alpha</th>\n",
       "      <th>M(X)</th>\n",
       "      <th>| M1(X) - M2(X) |</th>\n",
       "      <th>M(Y)</th>\n",
       "      <th>| M1(Y) - M2(Y) |</th>\n",
       "    </tr>\n",
       "  </thead>\n",
       "  <tbody>\n",
       "    <tr>\n",
       "      <td>0</td>\n",
       "      <td>1000</td>\n",
       "      <td>0.500</td>\n",
       "      <td>[5.42468, 6.13354]</td>\n",
       "      <td>0.7089</td>\n",
       "      <td>[7.27077, 7.79507]</td>\n",
       "      <td>0.5243</td>\n",
       "    </tr>\n",
       "    <tr>\n",
       "      <td>1</td>\n",
       "      <td>1000</td>\n",
       "      <td>0.100</td>\n",
       "      <td>[4.91477, 6.64345]</td>\n",
       "      <td>1.7287</td>\n",
       "      <td>[6.89363, 8.17221]</td>\n",
       "      <td>1.2786</td>\n",
       "    </tr>\n",
       "    <tr>\n",
       "      <td>2</td>\n",
       "      <td>1000</td>\n",
       "      <td>0.010</td>\n",
       "      <td>[4.42556, 7.13266]</td>\n",
       "      <td>2.7071</td>\n",
       "      <td>[6.5318, 8.53404]</td>\n",
       "      <td>2.0022</td>\n",
       "    </tr>\n",
       "    <tr>\n",
       "      <td>3</td>\n",
       "      <td>1000</td>\n",
       "      <td>0.001</td>\n",
       "      <td>[4.05, 7.50822]</td>\n",
       "      <td>3.4582</td>\n",
       "      <td>[6.25402, 8.81182]</td>\n",
       "      <td>2.5578</td>\n",
       "    </tr>\n",
       "    <tr>\n",
       "      <td>4</td>\n",
       "      <td>10000</td>\n",
       "      <td>0.500</td>\n",
       "      <td>[5.41254, 6.12032]</td>\n",
       "      <td>0.7078</td>\n",
       "      <td>[7.27251, 7.79735]</td>\n",
       "      <td>0.5248</td>\n",
       "    </tr>\n",
       "    <tr>\n",
       "      <td>5</td>\n",
       "      <td>10000</td>\n",
       "      <td>0.100</td>\n",
       "      <td>[4.90341, 6.62945]</td>\n",
       "      <td>1.7260</td>\n",
       "      <td>[6.89497, 8.17489]</td>\n",
       "      <td>1.2799</td>\n",
       "    </tr>\n",
       "    <tr>\n",
       "      <td>6</td>\n",
       "      <td>10000</td>\n",
       "      <td>0.010</td>\n",
       "      <td>[4.41494, 7.11792]</td>\n",
       "      <td>2.7030</td>\n",
       "      <td>[6.53276, 8.5371]</td>\n",
       "      <td>2.0043</td>\n",
       "    </tr>\n",
       "    <tr>\n",
       "      <td>7</td>\n",
       "      <td>10000</td>\n",
       "      <td>0.001</td>\n",
       "      <td>[4.03996, 7.4929]</td>\n",
       "      <td>3.4529</td>\n",
       "      <td>[6.25469, 8.81517]</td>\n",
       "      <td>2.5605</td>\n",
       "    </tr>\n",
       "    <tr>\n",
       "      <td>8</td>\n",
       "      <td>100000</td>\n",
       "      <td>0.500</td>\n",
       "      <td>[5.41904, 6.12846]</td>\n",
       "      <td>0.7094</td>\n",
       "      <td>[7.28519, 7.80877]</td>\n",
       "      <td>0.5236</td>\n",
       "    </tr>\n",
       "    <tr>\n",
       "      <td>9</td>\n",
       "      <td>100000</td>\n",
       "      <td>0.100</td>\n",
       "      <td>[4.90873, 6.63877]</td>\n",
       "      <td>1.7300</td>\n",
       "      <td>[6.90856, 8.1854]</td>\n",
       "      <td>1.2768</td>\n",
       "    </tr>\n",
       "    <tr>\n",
       "      <td>10</td>\n",
       "      <td>100000</td>\n",
       "      <td>0.010</td>\n",
       "      <td>[4.41913, 7.12837]</td>\n",
       "      <td>2.7092</td>\n",
       "      <td>[6.54722, 8.54674]</td>\n",
       "      <td>1.9995</td>\n",
       "    </tr>\n",
       "    <tr>\n",
       "      <td>11</td>\n",
       "      <td>100000</td>\n",
       "      <td>0.001</td>\n",
       "      <td>[4.04327, 7.50423]</td>\n",
       "      <td>3.4610</td>\n",
       "      <td>[6.26983, 8.82413]</td>\n",
       "      <td>2.5543</td>\n",
       "    </tr>\n",
       "  </tbody>\n",
       "</table>\n",
       "</div>"
      ],
      "text/plain": [
       "      size  alpha                M(X)  | M1(X) - M2(X) |                M(Y)  \\\n",
       "0     1000  0.500  [5.42468, 6.13354]             0.7089  [7.27077, 7.79507]   \n",
       "1     1000  0.100  [4.91477, 6.64345]             1.7287  [6.89363, 8.17221]   \n",
       "2     1000  0.010  [4.42556, 7.13266]             2.7071   [6.5318, 8.53404]   \n",
       "3     1000  0.001     [4.05, 7.50822]             3.4582  [6.25402, 8.81182]   \n",
       "4    10000  0.500  [5.41254, 6.12032]             0.7078  [7.27251, 7.79735]   \n",
       "5    10000  0.100  [4.90341, 6.62945]             1.7260  [6.89497, 8.17489]   \n",
       "6    10000  0.010  [4.41494, 7.11792]             2.7030   [6.53276, 8.5371]   \n",
       "7    10000  0.001   [4.03996, 7.4929]             3.4529  [6.25469, 8.81517]   \n",
       "8   100000  0.500  [5.41904, 6.12846]             0.7094  [7.28519, 7.80877]   \n",
       "9   100000  0.100  [4.90873, 6.63877]             1.7300   [6.90856, 8.1854]   \n",
       "10  100000  0.010  [4.41913, 7.12837]             2.7092  [6.54722, 8.54674]   \n",
       "11  100000  0.001  [4.04327, 7.50423]             3.4610  [6.26983, 8.82413]   \n",
       "\n",
       "    | M1(Y) - M2(Y) |  \n",
       "0              0.5243  \n",
       "1              1.2786  \n",
       "2              2.0022  \n",
       "3              2.5578  \n",
       "4              0.5248  \n",
       "5              1.2799  \n",
       "6              2.0043  \n",
       "7              2.5605  \n",
       "8              0.5236  \n",
       "9              1.2768  \n",
       "10             1.9995  \n",
       "11             2.5543  "
      ]
     },
     "execution_count": 36,
     "metadata": {},
     "output_type": "execute_result"
    }
   ],
   "source": [
    "alphas = [0.5, 0.1, 0.01, 0.001]\n",
    "sizes = [1000, 10000, 100000]\n",
    "M_X, M_Y = get_math_coeff_XY(ds.emp_matrix, ds.X, ds.Y)\n",
    "Mt_X, Mt_Y = get_math_coeff_XY(ds.distr, ds.X, ds.Y)\n",
    "print('Theoretical D(X): {0}\\nEmpirical D(X): {1}\\n'.format(round(Mt_X, 5), round(M_X, 5)))\n",
    "print('Theoretical D(Y): {0}\\nEmpirical D(Y): {1}\\n'.format(round(Mt_Y, 5), round(M_Y, 5)))\n",
    "show_math_expectation_interval(ds.distr, ds.X, ds.Y, sizes, alphas)"
   ]
  },
  {
   "cell_type": "code",
   "execution_count": 37,
   "metadata": {},
   "outputs": [
    {
     "data": {
      "text/plain": [
       "(100878.41530566558, 1.959963984540054)"
      ]
     },
     "execution_count": 37,
     "metadata": {},
     "output_type": "execute_result"
    }
   ],
   "source": [
    "a = 0.05\n",
    "sts.chi2.ppf(1-a/2, 100000), sts.norm.ppf(1-a/2)"
   ]
  },
  {
   "cell_type": "markdown",
   "metadata": {},
   "source": [
    "### Доверительный интервал для дисперсии \n",
    "Построим доверительный интервал для дисперсии для разных уровней значимости"
   ]
  },
  {
   "cell_type": "code",
   "execution_count": 38,
   "metadata": {},
   "outputs": [],
   "source": [
    "def get_dispersion_interval(D, n, a):\n",
    "    stat = sts.norm.ppf(1-a/2)\n",
    "    l, r = round(D - math.sqrt(D/(n-1))*stat, 5), round(D + math.sqrt(D/(n-1))*stat, 5)\n",
    "    return l, r\n",
    "\n",
    "def dispersion_interval(ds: DiscreteSystem, X, Y, a):\n",
    "    D_X, D_Y = get_dispersion_XY(ds.emp_matrix, X, Y)\n",
    "    size = ds.n * ds.m\n",
    "    l_x, r_x = get_dispersion_interval(D_X, size, a)\n",
    "    l_y, r_y = get_dispersion_interval(D_Y, size, a)\n",
    "    return ([l_x, r_x], [l_y, r_y])\n",
    "\n",
    "def show_dispersion_interval(prob_matrix, X, Y, sizes, alphas):\n",
    "    coeff = []\n",
    "    for n in sizes:\n",
    "        ds = DiscreteSystem(prob_matrix, gen_size=n)\n",
    "        for a in alphas:\n",
    "            di_X, di_Y = dispersion_interval(ds, X, Y, a)\n",
    "            coeff.append([n, a, str(di_X), abs(di_X[0] - di_X[1]), str(di_Y), abs(di_Y[0] - di_Y[1])])\n",
    "    return pd.DataFrame(data={\n",
    "            'size': [x[0] for x in coeff],\n",
    "            'alpha': [x[1] for x in coeff],\n",
    "            'D(X)': [x[2] for x in coeff],\n",
    "            '| D1(X) - D2(X) |': [round(x[3],4) for x in coeff], \n",
    "            'D(Y)': [x[4] for x in coeff],\n",
    "            '| D1(Y) - D2(Y) |': [round(x[5],4) for x in coeff]})"
   ]
  },
  {
   "cell_type": "code",
   "execution_count": 40,
   "metadata": {},
   "outputs": [
    {
     "name": "stdout",
     "output_type": "stream",
     "text": [
      "Theoretical D(X): 21.80037\n",
      "Empirical D(X): 21.86037\n",
      "\n",
      "Theoretical D(Y): 11.90942\n",
      "Empirical D(Y): 11.96339\n",
      "\n"
     ]
    },
    {
     "data": {
      "text/html": [
       "<div>\n",
       "<style scoped>\n",
       "    .dataframe tbody tr th:only-of-type {\n",
       "        vertical-align: middle;\n",
       "    }\n",
       "\n",
       "    .dataframe tbody tr th {\n",
       "        vertical-align: top;\n",
       "    }\n",
       "\n",
       "    .dataframe thead th {\n",
       "        text-align: right;\n",
       "    }\n",
       "</style>\n",
       "<table border=\"1\" class=\"dataframe\">\n",
       "  <thead>\n",
       "    <tr style=\"text-align: right;\">\n",
       "      <th></th>\n",
       "      <th>size</th>\n",
       "      <th>alpha</th>\n",
       "      <th>D(X)</th>\n",
       "      <th>| D1(X) - D2(X) |</th>\n",
       "      <th>D(Y)</th>\n",
       "      <th>| D1(Y) - D2(Y) |</th>\n",
       "    </tr>\n",
       "  </thead>\n",
       "  <tbody>\n",
       "    <tr>\n",
       "      <td>0</td>\n",
       "      <td>1000</td>\n",
       "      <td>0.500</td>\n",
       "      <td>[21.39095, 22.09868]</td>\n",
       "      <td>0.7077</td>\n",
       "      <td>[11.62507, 12.14833]</td>\n",
       "      <td>0.5233</td>\n",
       "    </tr>\n",
       "    <tr>\n",
       "      <td>1</td>\n",
       "      <td>1000</td>\n",
       "      <td>0.100</td>\n",
       "      <td>[20.88186, 22.60778]</td>\n",
       "      <td>1.7259</td>\n",
       "      <td>[11.24866, 12.52473]</td>\n",
       "      <td>1.2761</td>\n",
       "    </tr>\n",
       "    <tr>\n",
       "      <td>2</td>\n",
       "      <td>1000</td>\n",
       "      <td>0.010</td>\n",
       "      <td>[20.39342, 23.09621]</td>\n",
       "      <td>2.7028</td>\n",
       "      <td>[10.88754, 12.88586]</td>\n",
       "      <td>1.9983</td>\n",
       "    </tr>\n",
       "    <tr>\n",
       "      <td>3</td>\n",
       "      <td>1000</td>\n",
       "      <td>0.001</td>\n",
       "      <td>[20.01846, 23.47117]</td>\n",
       "      <td>3.4527</td>\n",
       "      <td>[10.61031, 13.16309]</td>\n",
       "      <td>2.5528</td>\n",
       "    </tr>\n",
       "    <tr>\n",
       "      <td>4</td>\n",
       "      <td>100000</td>\n",
       "      <td>0.500</td>\n",
       "      <td>[21.45035, 22.15905]</td>\n",
       "      <td>0.7087</td>\n",
       "      <td>[11.65877, 12.18278]</td>\n",
       "      <td>0.5240</td>\n",
       "    </tr>\n",
       "    <tr>\n",
       "      <td>5</td>\n",
       "      <td>100000</td>\n",
       "      <td>0.100</td>\n",
       "      <td>[20.94055, 22.66885]</td>\n",
       "      <td>1.7283</td>\n",
       "      <td>[11.28182, 12.55972]</td>\n",
       "      <td>1.2779</td>\n",
       "    </tr>\n",
       "    <tr>\n",
       "      <td>6</td>\n",
       "      <td>100000</td>\n",
       "      <td>0.010</td>\n",
       "      <td>[20.45145, 23.15795]</td>\n",
       "      <td>2.7065</td>\n",
       "      <td>[10.92018, 12.92136]</td>\n",
       "      <td>2.0012</td>\n",
       "    </tr>\n",
       "    <tr>\n",
       "      <td>7</td>\n",
       "      <td>100000</td>\n",
       "      <td>0.001</td>\n",
       "      <td>[20.07597, 23.53343]</td>\n",
       "      <td>3.4575</td>\n",
       "      <td>[10.64256, 13.19899]</td>\n",
       "      <td>2.5564</td>\n",
       "    </tr>\n",
       "  </tbody>\n",
       "</table>\n",
       "</div>"
      ],
      "text/plain": [
       "     size  alpha                  D(X)  | D1(X) - D2(X) |  \\\n",
       "0    1000  0.500  [21.39095, 22.09868]             0.7077   \n",
       "1    1000  0.100  [20.88186, 22.60778]             1.7259   \n",
       "2    1000  0.010  [20.39342, 23.09621]             2.7028   \n",
       "3    1000  0.001  [20.01846, 23.47117]             3.4527   \n",
       "4  100000  0.500  [21.45035, 22.15905]             0.7087   \n",
       "5  100000  0.100  [20.94055, 22.66885]             1.7283   \n",
       "6  100000  0.010  [20.45145, 23.15795]             2.7065   \n",
       "7  100000  0.001  [20.07597, 23.53343]             3.4575   \n",
       "\n",
       "                   D(Y)  | D1(Y) - D2(Y) |  \n",
       "0  [11.62507, 12.14833]             0.5233  \n",
       "1  [11.24866, 12.52473]             1.2761  \n",
       "2  [10.88754, 12.88586]             1.9983  \n",
       "3  [10.61031, 13.16309]             2.5528  \n",
       "4  [11.65877, 12.18278]             0.5240  \n",
       "5  [11.28182, 12.55972]             1.2779  \n",
       "6  [10.92018, 12.92136]             2.0012  \n",
       "7  [10.64256, 13.19899]             2.5564  "
      ]
     },
     "execution_count": 40,
     "metadata": {},
     "output_type": "execute_result"
    }
   ],
   "source": [
    "alphas = [0.5, 0.1, 0.01, 0.001]\n",
    "sizes = [1000, 100000]\n",
    "D_X, D_Y = get_dispersion_XY(ds.emp_matrix, ds.X, ds.Y)\n",
    "Dt_X, Dt_Y = get_dispersion_XY(ds.distr, ds.X, ds.Y)\n",
    "print('Theoretical D(X): {0}\\nEmpirical D(X): {1}\\n'.format(round(Dt_X, 5), round(D_X, 5)))\n",
    "print('Theoretical D(Y): {0}\\nEmpirical D(Y): {1}\\n'.format(round(Dt_Y, 5), round(D_Y, 5)))\n",
    "show_dispersion_interval(ds.distr, ds.X, ds.Y, sizes, alphas)"
   ]
  },
  {
   "cell_type": "markdown",
   "metadata": {},
   "source": [
    "### Критерий согласия Пирсона"
   ]
  },
  {
   "cell_type": "code",
   "execution_count": 41,
   "metadata": {},
   "outputs": [],
   "source": [
    "def validate_pearson_conditional(p_t, p_e):\n",
    "    chi = 0\n",
    "    m = len(p_t)\n",
    "    for i in range(1, m):\n",
    "        pi_s = p_t[i]\n",
    "        pi = p_e[i]\n",
    "        chi += (pi - pi_s)**2 / pi\n",
    "    return chi*m\n",
    "\n",
    "def validate_pearson_table(ds: DiscreteSystem):\n",
    "    chi = 0\n",
    "    for i in range(ds.n):\n",
    "        for j in range(ds.m):\n",
    "            pij_t = ds.distr[i, j]\n",
    "            pij = ds.emp_matrix[i, j]\n",
    "            if pij != 0:\n",
    "                chi += (pij - pij_t)**2 / pij\n",
    "    return chi*ds.size\n",
    "\n",
    "def show_pearson_criterion(n, exp_chi2, alpha):\n",
    "    table_chi2 = sts.chi2.ppf(alpha, n - 1)\n",
    "    print('Experimental chi square: {cs}, Table chi square: {tc}'.format(cs=round(exp_chi2, 5), tc=round(table_chi2, 5)))\n",
    "    if exp_chi2 < table_chi2:\n",
    "        print('Criterion is accepted')\n",
    "    else:\n",
    "        print('Criterion is not accepted')"
   ]
  },
  {
   "cell_type": "code",
   "execution_count": 43,
   "metadata": {},
   "outputs": [
    {
     "name": "stdout",
     "output_type": "stream",
     "text": [
      "Chi square for X:\n",
      "Experimental chi square: 0.0015, Table chi square: 2.0879\n",
      "Criterion is accepted\n",
      "\n",
      "Chi square for Y:\n",
      "Experimental chi square: 0.00011, Table chi square: 1.23904\n",
      "Criterion is accepted\n",
      "\n",
      "Chi square for distribution:\n",
      "Experimental chi square: 0.05629, Table chi square: 52.72468\n",
      "Criterion is accepted\n"
     ]
    }
   ],
   "source": [
    "alpha = 0.01\n",
    "p_X_t = ds.p_X\n",
    "p_X_e = ds.emp_p_X\n",
    "exp_chi2 = validate_pearson_conditional(p_X_t, p_X_e)\n",
    "print(\"Chi square for X:\")\n",
    "show_pearson_criterion(len(p_X_t), exp_chi2, alpha)\n",
    "print()\n",
    "p_Y_t = ds.p_Y\n",
    "p_Y_e = ds.emp_p_Y\n",
    "exp_chi2 = validate_pearson_conditional(p_Y_t, p_Y_e)\n",
    "print(\"Chi square for Y:\")\n",
    "show_pearson_criterion(len(p_Y_t), exp_chi2, alpha)\n",
    "print()\n",
    "exp_chi2 = validate_pearson_table(ds)\n",
    "print(\"Chi square for distribution:\")\n",
    "show_pearson_criterion(ds.size, exp_chi2, alpha)"
   ]
  },
  {
   "cell_type": "code",
   "execution_count": null,
   "metadata": {},
   "outputs": [],
   "source": []
  },
  {
   "cell_type": "code",
   "execution_count": null,
   "metadata": {},
   "outputs": [],
   "source": []
  },
  {
   "cell_type": "code",
   "execution_count": null,
   "metadata": {},
   "outputs": [],
   "source": []
  }
 ],
 "metadata": {
  "kernelspec": {
   "display_name": "Python 3",
   "language": "python",
   "name": "python3"
  },
  "language_info": {
   "codemirror_mode": {
    "name": "ipython",
    "version": 3
   },
   "file_extension": ".py",
   "mimetype": "text/x-python",
   "name": "python",
   "nbconvert_exporter": "python",
   "pygments_lexer": "ipython3",
   "version": "3.7.3"
  }
 },
 "nbformat": 4,
 "nbformat_minor": 2
}
